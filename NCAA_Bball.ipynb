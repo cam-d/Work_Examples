{
  "nbformat": 4,
  "nbformat_minor": 0,
  "metadata": {
    "kernelspec": {
      "display_name": "Python 3",
      "language": "python",
      "name": "python3"
    },
    "language_info": {
      "codemirror_mode": {
        "name": "ipython",
        "version": 3
      },
      "file_extension": ".py",
      "mimetype": "text/x-python",
      "name": "python",
      "nbconvert_exporter": "python",
      "pygments_lexer": "ipython3",
      "version": "3.7.3"
    },
    "colab": {
      "name": "Copy of NCAA_Bball.ipynb",
      "provenance": [],
      "collapsed_sections": [],
      "toc_visible": true,
      "include_colab_link": true
    }
  },
  "cells": [
    {
      "cell_type": "markdown",
      "metadata": {
        "id": "view-in-github",
        "colab_type": "text"
      },
      "source": [
        "<a href=\"https://colab.research.google.com/github/cam-d/Work_Examples/blob/master/NCAA_Bball.ipynb\" target=\"_parent\"><img src=\"https://colab.research.google.com/assets/colab-badge.svg\" alt=\"Open In Colab\"/></a>"
      ]
    },
    {
      "cell_type": "markdown",
      "metadata": {
        "id": "MxX51dDVALoe",
        "colab_type": "text"
      },
      "source": [
        "##### I was running this in Google Colab.  The cell below mounted my google drive so I could use for working directory."
      ]
    },
    {
      "cell_type": "code",
      "metadata": {
        "id": "0AAH3I-W-_2-",
        "colab_type": "code",
        "colab": {}
      },
      "source": [
        "from google.colab import drive\n",
        "drive.mount('/content/drive')"
      ],
      "execution_count": 0,
      "outputs": []
    },
    {
      "cell_type": "markdown",
      "metadata": {
        "id": "SeAc2_qkw2fM",
        "colab_type": "text"
      },
      "source": [
        "## Import Packages and setup Working Directory"
      ]
    },
    {
      "cell_type": "code",
      "metadata": {
        "id": "SQnPhAzCxwur",
        "colab_type": "code",
        "outputId": "925c6141-aac9-4612-b98b-a786844197e9",
        "colab": {
          "base_uri": "https://localhost:8080/",
          "height": 34
        }
      },
      "source": [
        "import os\n",
        "os.chdir('/content/drive/My Drive/Colab Notebooks/MDataFiles_Stage1/')\n",
        "os.getcwd()"
      ],
      "execution_count": 6,
      "outputs": [
        {
          "output_type": "execute_result",
          "data": {
            "text/plain": [
              "'/content/drive/My Drive/Colab Notebooks/MDataFiles_Stage1'"
            ]
          },
          "metadata": {
            "tags": []
          },
          "execution_count": 6
        }
      ]
    },
    {
      "cell_type": "code",
      "metadata": {
        "id": "zwGzwbVLw2fR",
        "colab_type": "code",
        "colab": {}
      },
      "source": [
        "import pandas as pd\n",
        "import numpy as np\n",
        "from sklearn.linear_model import LogisticRegression\n",
        "import matplotlib.pyplot as plt\n",
        "from sklearn.utils import shuffle\n",
        "from sklearn.model_selection import GridSearchCV, train_test_split\n",
        "from sklearn.ensemble import RandomForestClassifier, AdaBoostClassifier\n",
        "from sklearn.tree import DecisionTreeClassifier\n",
        "from sklearn.preprocessing import OneHotEncoder, FunctionTransformer, LabelEncoder, StandardScaler, OrdinalEncoder\n",
        "from sklearn.neural_network import MLPClassifier\n",
        "from xgboost import XGBClassifier\n",
        "from sklearn.linear_model import Lasso\n",
        "from sklearn.metrics import *"
      ],
      "execution_count": 0,
      "outputs": []
    },
    {
      "cell_type": "code",
      "metadata": {
        "id": "qiPuo96Uw2fa",
        "colab_type": "code",
        "colab": {}
      },
      "source": [
        "def importanceList(classifier, columns):\n",
        "    idf = pd.DataFrame({'Importance': classifier.feature_importances_}, index=columns.columns).sort_values(['Importance'], ascending=False)\n",
        "    #return idf[idf['Importance']!=0]\n",
        "    return idf"
      ],
      "execution_count": 0,
      "outputs": []
    },
    {
      "cell_type": "markdown",
      "metadata": {
        "id": "Cg-3Db5EGuoc",
        "colab_type": "text"
      },
      "source": [
        "## Load Tournament Data (Results and Seeds from previous years)"
      ]
    },
    {
      "cell_type": "code",
      "metadata": {
        "_cell_guid": "79c7e3d0-c299-4dcb-8224-4455121ee9b0",
        "_uuid": "d629ff2d2480ee46fbb7e2d37f6b5fab8052498a",
        "id": "0oyNsoc6w2fg",
        "colab_type": "code",
        "colab": {}
      },
      "source": [
        "tourney_result = pd.read_csv('MNCAATourneyCompactResults.csv')\n",
        "tourney_seed = pd.read_csv('MNCAATourneySeeds.csv')"
      ],
      "execution_count": 0,
      "outputs": []
    },
    {
      "cell_type": "code",
      "metadata": {
        "scrolled": true,
        "id": "6lb1jGV4w2fn",
        "colab_type": "code",
        "colab": {}
      },
      "source": [
        "# delete unnecessary columns\n",
        "tourney_result = tourney_result.drop(['DayNum', 'WScore', 'LScore', 'WLoc', 'NumOT'], axis=1)"
      ],
      "execution_count": 0,
      "outputs": []
    },
    {
      "cell_type": "markdown",
      "metadata": {
        "id": "bgge830xw2fw",
        "colab_type": "text"
      },
      "source": [
        "## arrange so lower ID is first, same format as prediction set.  \n",
        "#### team_x is team with lower ID, result is if lowerID team won"
      ]
    },
    {
      "cell_type": "code",
      "metadata": {
        "id": "5eHzLbPKw2fy",
        "colab_type": "code",
        "colab": {}
      },
      "source": [
        "tourney_result['team_x'] = tourney_result[['WTeamID', 'LTeamID']].apply(min, axis =1)\n",
        "tourney_result['team_y'] = tourney_result[['WTeamID', 'LTeamID']].apply(max, axis =1)\n",
        "tourney_result['result'] = np.where(tourney_result['team_x']==tourney_result['WTeamID'],1,0)\n",
        "tourney_result = tourney_result.drop(columns = ['WTeamID', 'LTeamID'])"
      ],
      "execution_count": 0,
      "outputs": []
    },
    {
      "cell_type": "markdown",
      "metadata": {
        "id": "giagBDN7w2gG",
        "colab_type": "text"
      },
      "source": [
        "## Merge Seed to tournanament results"
      ]
    },
    {
      "cell_type": "code",
      "metadata": {
        "id": "UqrTP6bKw2gI",
        "colab_type": "code",
        "colab": {}
      },
      "source": [
        "tourney_result = pd.merge(tourney_result, tourney_seed, left_on=['Season', 'team_x'], right_on=['Season', 'TeamID'], how='left')\n",
        "tourney_result.rename(columns={'Seed':'seed_x'}, inplace=True)\n",
        "tourney_result = tourney_result.drop('TeamID', axis=1)\n",
        "tourney_result = pd.merge(tourney_result, tourney_seed, left_on=['Season', 'team_y'], right_on=['Season', 'TeamID'], how='left')\n",
        "tourney_result.rename(columns={'Seed':'seed_y'}, inplace=True)\n",
        "tourney_result = tourney_result.drop('TeamID', axis=1)\n",
        "tourney_result.head(3);"
      ],
      "execution_count": 0,
      "outputs": []
    },
    {
      "cell_type": "code",
      "metadata": {
        "scrolled": true,
        "id": "p5cHizxHw2gO",
        "colab_type": "code",
        "colab": {}
      },
      "source": [
        "def get_seed(x):\n",
        "    return int(x[1:3])\n",
        "\n",
        "tourney_result['seed_x'] = tourney_result['seed_x'].map(lambda x: get_seed(x))\n",
        "tourney_result['seed_y'] = tourney_result['seed_y'].map(lambda x: get_seed(x))\n",
        "tourney_result.head(3);"
      ],
      "execution_count": 0,
      "outputs": []
    },
    {
      "cell_type": "markdown",
      "metadata": {
        "id": "yo1J1EOlw2hg",
        "colab_type": "text"
      },
      "source": [
        "## Get Game stats from regular season"
      ]
    },
    {
      "cell_type": "code",
      "metadata": {
        "id": "z7VbqnXzw2hh",
        "colab_type": "code",
        "colab": {}
      },
      "source": [
        "season_result = pd.read_csv('MRegularSeasonCompactResults.csv')"
      ],
      "execution_count": 0,
      "outputs": []
    },
    {
      "cell_type": "code",
      "metadata": {
        "id": "2Yo6ake7w2hm",
        "colab_type": "code",
        "outputId": "2080016c-a7d7-4d9a-beb7-890bd17f5a65",
        "colab": {
          "base_uri": "https://localhost:8080/",
          "height": 80
        }
      },
      "source": [
        "season_result.head(1)"
      ],
      "execution_count": 16,
      "outputs": [
        {
          "output_type": "execute_result",
          "data": {
            "text/html": [
              "<div>\n",
              "<style scoped>\n",
              "    .dataframe tbody tr th:only-of-type {\n",
              "        vertical-align: middle;\n",
              "    }\n",
              "\n",
              "    .dataframe tbody tr th {\n",
              "        vertical-align: top;\n",
              "    }\n",
              "\n",
              "    .dataframe thead th {\n",
              "        text-align: right;\n",
              "    }\n",
              "</style>\n",
              "<table border=\"1\" class=\"dataframe\">\n",
              "  <thead>\n",
              "    <tr style=\"text-align: right;\">\n",
              "      <th></th>\n",
              "      <th>Season</th>\n",
              "      <th>DayNum</th>\n",
              "      <th>WTeamID</th>\n",
              "      <th>WScore</th>\n",
              "      <th>LTeamID</th>\n",
              "      <th>LScore</th>\n",
              "      <th>WLoc</th>\n",
              "      <th>NumOT</th>\n",
              "    </tr>\n",
              "  </thead>\n",
              "  <tbody>\n",
              "    <tr>\n",
              "      <th>0</th>\n",
              "      <td>1985</td>\n",
              "      <td>20</td>\n",
              "      <td>1228</td>\n",
              "      <td>81</td>\n",
              "      <td>1328</td>\n",
              "      <td>64</td>\n",
              "      <td>N</td>\n",
              "      <td>0</td>\n",
              "    </tr>\n",
              "  </tbody>\n",
              "</table>\n",
              "</div>"
            ],
            "text/plain": [
              "   Season  DayNum  WTeamID  WScore  LTeamID  LScore WLoc  NumOT\n",
              "0    1985      20     1228      81     1328      64    N      0"
            ]
          },
          "metadata": {
            "tags": []
          },
          "execution_count": 16
        }
      ]
    },
    {
      "cell_type": "code",
      "metadata": {
        "id": "vNByjFsZw2hs",
        "colab_type": "code",
        "outputId": "4b1436db-5a33-4b12-ed6f-5bbbbefb65ee",
        "colab": {
          "base_uri": "https://localhost:8080/",
          "height": 142
        }
      },
      "source": [
        "#get season wins and pts for / against\n",
        "wins = pd.DataFrame(season_result.groupby(['Season','WTeamID']).agg({'WTeamID':'count', 'WScore':'sum', 'LScore':'sum'}))\n",
        "wins.columns = ['Wins', 'PtsFor', 'PtsAgnst']\n",
        "wins.reset_index(inplace = True)\n",
        "wins= wins.rename(columns = {'WTeamID':'TeamID'})\n",
        "wins;\n",
        "\n",
        "#get season losses and pts for / against\n",
        "losses = pd.DataFrame(season_result.groupby(['Season','LTeamID']).agg({'LTeamID':'count', 'LScore':'sum', 'WScore':'sum'}))\n",
        "losses.columns = ['Losses', 'PtsFor', 'PtsAgnst']\n",
        "losses.reset_index(inplace = True)\n",
        "losses= losses.rename(columns = {'LTeamID':'TeamID'})\n",
        "losses;\n",
        "\n",
        "### merge results for season record and win percent\n",
        "season_record = pd.merge(wins, losses, left_on = ['Season', 'TeamID'], right_on=['Season', 'TeamID'], how = 'left')\n",
        "season_record = season_record.fillna(0) # Kentucky went undefeated in 2015\n",
        "### copy for Strength of Sched\n",
        "season_record_copy = season_record.copy()\n",
        "###\n",
        "season_record['win_pct'] = season_record['Wins']/(season_record['Wins']+season_record['Losses'])\n",
        "season_record['ptsFor'] = (season_record['PtsFor_x'] + season_record['PtsFor_y'])/(season_record['Wins']+season_record['Losses'])\n",
        "season_record['ptsAgainst'] = (season_record['PtsAgnst_x'] + season_record['PtsAgnst_y'])/(season_record['Wins']+season_record['Losses'])\n",
        "season_record = season_record[['Season', 'TeamID', 'win_pct', 'ptsFor', 'ptsAgainst']]\n",
        "season_record.head(3)"
      ],
      "execution_count": 17,
      "outputs": [
        {
          "output_type": "execute_result",
          "data": {
            "text/html": [
              "<div>\n",
              "<style scoped>\n",
              "    .dataframe tbody tr th:only-of-type {\n",
              "        vertical-align: middle;\n",
              "    }\n",
              "\n",
              "    .dataframe tbody tr th {\n",
              "        vertical-align: top;\n",
              "    }\n",
              "\n",
              "    .dataframe thead th {\n",
              "        text-align: right;\n",
              "    }\n",
              "</style>\n",
              "<table border=\"1\" class=\"dataframe\">\n",
              "  <thead>\n",
              "    <tr style=\"text-align: right;\">\n",
              "      <th></th>\n",
              "      <th>Season</th>\n",
              "      <th>TeamID</th>\n",
              "      <th>win_pct</th>\n",
              "      <th>ptsFor</th>\n",
              "      <th>ptsAgainst</th>\n",
              "    </tr>\n",
              "  </thead>\n",
              "  <tbody>\n",
              "    <tr>\n",
              "      <th>0</th>\n",
              "      <td>1985</td>\n",
              "      <td>1102</td>\n",
              "      <td>0.208333</td>\n",
              "      <td>63.083333</td>\n",
              "      <td>68.875000</td>\n",
              "    </tr>\n",
              "    <tr>\n",
              "      <th>1</th>\n",
              "      <td>1985</td>\n",
              "      <td>1103</td>\n",
              "      <td>0.391304</td>\n",
              "      <td>61.043478</td>\n",
              "      <td>64.086957</td>\n",
              "    </tr>\n",
              "    <tr>\n",
              "      <th>2</th>\n",
              "      <td>1985</td>\n",
              "      <td>1104</td>\n",
              "      <td>0.700000</td>\n",
              "      <td>68.500000</td>\n",
              "      <td>60.700000</td>\n",
              "    </tr>\n",
              "  </tbody>\n",
              "</table>\n",
              "</div>"
            ],
            "text/plain": [
              "   Season  TeamID   win_pct     ptsFor  ptsAgainst\n",
              "0    1985    1102  0.208333  63.083333   68.875000\n",
              "1    1985    1103  0.391304  61.043478   64.086957\n",
              "2    1985    1104  0.700000  68.500000   60.700000"
            ]
          },
          "metadata": {
            "tags": []
          },
          "execution_count": 17
        }
      ]
    },
    {
      "cell_type": "markdown",
      "metadata": {
        "id": "igekNkKYH75E",
        "colab_type": "text"
      },
      "source": [
        "## Get Regular Season Detailed Stats"
      ]
    },
    {
      "cell_type": "code",
      "metadata": {
        "id": "0sXlQ5-kw2ij",
        "colab_type": "code",
        "colab": {}
      },
      "source": [
        "###\n",
        "season_details = pd.read_csv('MRegularSeasonDetailedResults.csv')"
      ],
      "execution_count": 0,
      "outputs": []
    },
    {
      "cell_type": "code",
      "metadata": {
        "scrolled": true,
        "id": "eC15yzKXw2im",
        "colab_type": "code",
        "outputId": "bc4cfefa-66a2-4566-996c-27c70145a402",
        "colab": {
          "base_uri": "https://localhost:8080/",
          "height": 131
        }
      },
      "source": [
        "season_details.head(2)"
      ],
      "execution_count": 19,
      "outputs": [
        {
          "output_type": "execute_result",
          "data": {
            "text/html": [
              "<div>\n",
              "<style scoped>\n",
              "    .dataframe tbody tr th:only-of-type {\n",
              "        vertical-align: middle;\n",
              "    }\n",
              "\n",
              "    .dataframe tbody tr th {\n",
              "        vertical-align: top;\n",
              "    }\n",
              "\n",
              "    .dataframe thead th {\n",
              "        text-align: right;\n",
              "    }\n",
              "</style>\n",
              "<table border=\"1\" class=\"dataframe\">\n",
              "  <thead>\n",
              "    <tr style=\"text-align: right;\">\n",
              "      <th></th>\n",
              "      <th>Season</th>\n",
              "      <th>DayNum</th>\n",
              "      <th>WTeamID</th>\n",
              "      <th>WScore</th>\n",
              "      <th>LTeamID</th>\n",
              "      <th>LScore</th>\n",
              "      <th>WLoc</th>\n",
              "      <th>NumOT</th>\n",
              "      <th>WFGM</th>\n",
              "      <th>WFGA</th>\n",
              "      <th>WFGM3</th>\n",
              "      <th>WFGA3</th>\n",
              "      <th>WFTM</th>\n",
              "      <th>WFTA</th>\n",
              "      <th>WOR</th>\n",
              "      <th>WDR</th>\n",
              "      <th>WAst</th>\n",
              "      <th>WTO</th>\n",
              "      <th>WStl</th>\n",
              "      <th>WBlk</th>\n",
              "      <th>WPF</th>\n",
              "      <th>LFGM</th>\n",
              "      <th>LFGA</th>\n",
              "      <th>LFGM3</th>\n",
              "      <th>LFGA3</th>\n",
              "      <th>LFTM</th>\n",
              "      <th>LFTA</th>\n",
              "      <th>LOR</th>\n",
              "      <th>LDR</th>\n",
              "      <th>LAst</th>\n",
              "      <th>LTO</th>\n",
              "      <th>LStl</th>\n",
              "      <th>LBlk</th>\n",
              "      <th>LPF</th>\n",
              "    </tr>\n",
              "  </thead>\n",
              "  <tbody>\n",
              "    <tr>\n",
              "      <th>0</th>\n",
              "      <td>2003</td>\n",
              "      <td>10</td>\n",
              "      <td>1104</td>\n",
              "      <td>68</td>\n",
              "      <td>1328</td>\n",
              "      <td>62</td>\n",
              "      <td>N</td>\n",
              "      <td>0</td>\n",
              "      <td>27</td>\n",
              "      <td>58</td>\n",
              "      <td>3</td>\n",
              "      <td>14</td>\n",
              "      <td>11</td>\n",
              "      <td>18</td>\n",
              "      <td>14</td>\n",
              "      <td>24</td>\n",
              "      <td>13</td>\n",
              "      <td>23</td>\n",
              "      <td>7</td>\n",
              "      <td>1</td>\n",
              "      <td>22</td>\n",
              "      <td>22</td>\n",
              "      <td>53</td>\n",
              "      <td>2</td>\n",
              "      <td>10</td>\n",
              "      <td>16</td>\n",
              "      <td>22</td>\n",
              "      <td>10</td>\n",
              "      <td>22</td>\n",
              "      <td>8</td>\n",
              "      <td>18</td>\n",
              "      <td>9</td>\n",
              "      <td>2</td>\n",
              "      <td>20</td>\n",
              "    </tr>\n",
              "    <tr>\n",
              "      <th>1</th>\n",
              "      <td>2003</td>\n",
              "      <td>10</td>\n",
              "      <td>1272</td>\n",
              "      <td>70</td>\n",
              "      <td>1393</td>\n",
              "      <td>63</td>\n",
              "      <td>N</td>\n",
              "      <td>0</td>\n",
              "      <td>26</td>\n",
              "      <td>62</td>\n",
              "      <td>8</td>\n",
              "      <td>20</td>\n",
              "      <td>10</td>\n",
              "      <td>19</td>\n",
              "      <td>15</td>\n",
              "      <td>28</td>\n",
              "      <td>16</td>\n",
              "      <td>13</td>\n",
              "      <td>4</td>\n",
              "      <td>4</td>\n",
              "      <td>18</td>\n",
              "      <td>24</td>\n",
              "      <td>67</td>\n",
              "      <td>6</td>\n",
              "      <td>24</td>\n",
              "      <td>9</td>\n",
              "      <td>20</td>\n",
              "      <td>20</td>\n",
              "      <td>25</td>\n",
              "      <td>7</td>\n",
              "      <td>12</td>\n",
              "      <td>8</td>\n",
              "      <td>6</td>\n",
              "      <td>16</td>\n",
              "    </tr>\n",
              "  </tbody>\n",
              "</table>\n",
              "</div>"
            ],
            "text/plain": [
              "   Season  DayNum  WTeamID  WScore  LTeamID  ...  LAst LTO  LStl  LBlk  LPF\n",
              "0    2003      10     1104      68     1328  ...     8  18     9     2   20\n",
              "1    2003      10     1272      70     1393  ...     7  12     8     6   16\n",
              "\n",
              "[2 rows x 34 columns]"
            ]
          },
          "metadata": {
            "tags": []
          },
          "execution_count": 19
        }
      ]
    },
    {
      "cell_type": "code",
      "metadata": {
        "id": "U0nR8zGbw2it",
        "colab_type": "code",
        "outputId": "d7311fbc-186b-478e-a02b-23a892cfe767",
        "colab": {
          "base_uri": "https://localhost:8080/",
          "height": 111
        }
      },
      "source": [
        "### season avgs, will need to do 2x, once for W, once for Ls, then avg for all season\n",
        "win_stats = season_details[['Season', 'DayNum', 'WTeamID', 'WScore', 'WFGM', 'WFGA', 'WFGM3', 'WFGA3', 'WFTM', 'WFTA', 'WOR', 'WDR',\n",
        "       'WAst', 'WTO', 'WStl', 'WBlk', 'WPF',]]\n",
        "\n",
        "loss_stats = season_details[['Season', 'DayNum', 'LTeamID', 'LScore', 'LFGM', 'LFGA', 'LFGM3', 'LFGA3',\n",
        "       'LFTM', 'LFTA', 'LOR', 'LDR', 'LAst', 'LTO', 'LStl', 'LBlk', 'LPF']]\n",
        "\n",
        "stat_names = ['Season', 'DayNum', 'TeamID', 'Score', 'FGM', 'FGA', 'FGM3', 'FGA3',\n",
        "       'FTM', 'FTA', 'OR', 'DR', 'Ast', 'TO', 'Stl', 'Blk', 'PF']\n",
        "\n",
        "win_stats.columns = stat_names\n",
        "loss_stats.columns = stat_names\n",
        "\n",
        "\n",
        "tot_stats = pd.concat([win_stats,loss_stats], axis = 0, ignore_index=True)\n",
        "tot_stats = tot_stats.drop(columns = 'DayNum')\n",
        "\n",
        "## Calculate FG and 3Point %\n",
        "tot_stats['fg%'] = tot_stats['FGM']/(tot_stats['FGA'])\n",
        "tot_stats['3pt%'] = tot_stats['FGM3']/(tot_stats['FGA3'])\n",
        "\n",
        "avg_stats =tot_stats.groupby(['Season', 'TeamID']).mean()\n",
        "avg_stats = pd.DataFrame(avg_stats)\n",
        "avg_stats.reset_index(inplace=True)\n",
        "avg_stats.head(2)"
      ],
      "execution_count": 20,
      "outputs": [
        {
          "output_type": "execute_result",
          "data": {
            "text/html": [
              "<div>\n",
              "<style scoped>\n",
              "    .dataframe tbody tr th:only-of-type {\n",
              "        vertical-align: middle;\n",
              "    }\n",
              "\n",
              "    .dataframe tbody tr th {\n",
              "        vertical-align: top;\n",
              "    }\n",
              "\n",
              "    .dataframe thead th {\n",
              "        text-align: right;\n",
              "    }\n",
              "</style>\n",
              "<table border=\"1\" class=\"dataframe\">\n",
              "  <thead>\n",
              "    <tr style=\"text-align: right;\">\n",
              "      <th></th>\n",
              "      <th>Season</th>\n",
              "      <th>TeamID</th>\n",
              "      <th>Score</th>\n",
              "      <th>FGM</th>\n",
              "      <th>FGA</th>\n",
              "      <th>FGM3</th>\n",
              "      <th>FGA3</th>\n",
              "      <th>FTM</th>\n",
              "      <th>FTA</th>\n",
              "      <th>OR</th>\n",
              "      <th>DR</th>\n",
              "      <th>Ast</th>\n",
              "      <th>TO</th>\n",
              "      <th>Stl</th>\n",
              "      <th>Blk</th>\n",
              "      <th>PF</th>\n",
              "      <th>fg%</th>\n",
              "      <th>3pt%</th>\n",
              "    </tr>\n",
              "  </thead>\n",
              "  <tbody>\n",
              "    <tr>\n",
              "      <th>0</th>\n",
              "      <td>2003</td>\n",
              "      <td>1102</td>\n",
              "      <td>57.250000</td>\n",
              "      <td>19.142857</td>\n",
              "      <td>39.785714</td>\n",
              "      <td>7.821429</td>\n",
              "      <td>20.821429</td>\n",
              "      <td>11.142857</td>\n",
              "      <td>17.107143</td>\n",
              "      <td>4.178571</td>\n",
              "      <td>16.821429</td>\n",
              "      <td>13.000000</td>\n",
              "      <td>11.428571</td>\n",
              "      <td>5.964286</td>\n",
              "      <td>1.785714</td>\n",
              "      <td>18.750000</td>\n",
              "      <td>0.486149</td>\n",
              "      <td>0.367637</td>\n",
              "    </tr>\n",
              "    <tr>\n",
              "      <th>1</th>\n",
              "      <td>2003</td>\n",
              "      <td>1103</td>\n",
              "      <td>78.777778</td>\n",
              "      <td>27.148148</td>\n",
              "      <td>55.851852</td>\n",
              "      <td>5.444444</td>\n",
              "      <td>16.074074</td>\n",
              "      <td>19.037037</td>\n",
              "      <td>25.851852</td>\n",
              "      <td>9.777778</td>\n",
              "      <td>19.925926</td>\n",
              "      <td>15.222222</td>\n",
              "      <td>12.629630</td>\n",
              "      <td>7.259259</td>\n",
              "      <td>2.333333</td>\n",
              "      <td>19.851852</td>\n",
              "      <td>0.487294</td>\n",
              "      <td>0.331990</td>\n",
              "    </tr>\n",
              "  </tbody>\n",
              "</table>\n",
              "</div>"
            ],
            "text/plain": [
              "   Season  TeamID      Score  ...         PF       fg%      3pt%\n",
              "0    2003    1102  57.250000  ...  18.750000  0.486149  0.367637\n",
              "1    2003    1103  78.777778  ...  19.851852  0.487294  0.331990\n",
              "\n",
              "[2 rows x 18 columns]"
            ]
          },
          "metadata": {
            "tags": []
          },
          "execution_count": 20
        }
      ]
    },
    {
      "cell_type": "markdown",
      "metadata": {
        "id": "WdtPo68Xw2jC",
        "colab_type": "text"
      },
      "source": [
        "## Merge Detailed Stat averages into season_results"
      ]
    },
    {
      "cell_type": "code",
      "metadata": {
        "id": "2TATApdLw2jD",
        "colab_type": "code",
        "colab": {}
      },
      "source": [
        "season_stats = pd.merge(season_record, avg_stats, left_on = ['Season', 'TeamID'], right_on = ['Season', 'TeamID'], how = 'left')"
      ],
      "execution_count": 0,
      "outputs": []
    },
    {
      "cell_type": "markdown",
      "metadata": {
        "id": "dT6YqP0vSyWA",
        "colab_type": "text"
      },
      "source": [
        "## Import KenPom stats and team rankings\n",
        "\n",
        "\n",
        "*   The KenPom_data and team_rankings csv files were saved locally after using Beautiful soup to get into tabular format.\n",
        "*   To match the team names from the 3 sources (Kaggle, KenPom, and team rankings) I used difflib's get_close_matches, then manually spot checked.  The final mapping is the teams_comb_rank.xlsx.  \n",
        "\n",
        "\n",
        "\n",
        "\n",
        "\n"
      ]
    },
    {
      "cell_type": "code",
      "metadata": {
        "id": "oinxm9_rS20w",
        "colab_type": "code",
        "colab": {}
      },
      "source": [
        "kenStats = pd.read_csv('KenPom_Data.csv')\n",
        "kenStats['Team'] = kenStats['Team'].str.strip().str.replace('.','')\n",
        "kenStats = kenStats.drop(columns =['Unnamed: 0','Wins', 'Losses', 'Seed'])\n",
        "\n",
        "teamranks = pd.read_csv('team_rankings.csv')\n",
        "teamranks['Team'] = teamranks['Team'].str.strip().str.replace('.','')\n",
        "\n",
        "teamranks = teamranks.drop(columns = ['Unnamed: 0', 'v26-50', 'v51-100', 'Last'])\n",
        "teams_comb = pd.read_excel('teams_comb_addrank.xlsx', usecols='A:F')\n",
        "teams_comb['KenTeam'] = teams_comb['KenTeam'].str.strip().str.replace('.','')\n",
        "teams_comb['TeamName'] = teams_comb['TeamName'].str.strip().str.replace('.','')\n",
        "teams_comb['TeamRankings'] = teams_comb['TeamRankings'].str.strip().str.replace('.','')"
      ],
      "execution_count": 0,
      "outputs": []
    },
    {
      "cell_type": "code",
      "metadata": {
        "id": "rHISgjq7T3u4",
        "colab_type": "code",
        "colab": {}
      },
      "source": [
        "ken = pd.merge(kenStats,teams_comb[['TeamID', 'KenTeam', 'TeamRankings']], left_on = ['Team'], right_on = ['KenTeam'], how = 'left').reset_index(drop=True)"
      ],
      "execution_count": 0,
      "outputs": []
    },
    {
      "cell_type": "code",
      "metadata": {
        "id": "8ld_CXLeqSWd",
        "colab_type": "code",
        "colab": {}
      },
      "source": [
        "add_rank = pd.merge(ken, teamranks[['Rank', 'Team', 'Rating', 'Year', 'v1-25']], left_on = ['TeamRankings', 'Year'],right_on = ['Team', 'Year'], how = 'left')\n"
      ],
      "execution_count": 0,
      "outputs": []
    },
    {
      "cell_type": "code",
      "metadata": {
        "id": "1ybDFswwrCpU",
        "colab_type": "code",
        "colab": {}
      },
      "source": [
        "add_rank = add_rank.drop(columns = ['Team_x', 'KenTeam', 'TeamRankings', 'Team_y', 'Conference'])"
      ],
      "execution_count": 0,
      "outputs": []
    },
    {
      "cell_type": "code",
      "metadata": {
        "id": "YCTbyBycsSmK",
        "colab_type": "code",
        "outputId": "04d9ad81-3b18-4518-f1db-b0af0524e002",
        "colab": {
          "base_uri": "https://localhost:8080/",
          "height": 128
        }
      },
      "source": [
        "add_rank=add_rank.rename(columns = {'Rank_x':'k_rank'})\n",
        "add_rank=add_rank.rename(columns = {'Rank_y':'t_rank'})\n",
        "add_rank.head(2)"
      ],
      "execution_count": 26,
      "outputs": [
        {
          "output_type": "execute_result",
          "data": {
            "text/html": [
              "<div>\n",
              "<style scoped>\n",
              "    .dataframe tbody tr th:only-of-type {\n",
              "        vertical-align: middle;\n",
              "    }\n",
              "\n",
              "    .dataframe tbody tr th {\n",
              "        vertical-align: top;\n",
              "    }\n",
              "\n",
              "    .dataframe thead th {\n",
              "        text-align: right;\n",
              "    }\n",
              "</style>\n",
              "<table border=\"1\" class=\"dataframe\">\n",
              "  <thead>\n",
              "    <tr style=\"text-align: right;\">\n",
              "      <th></th>\n",
              "      <th>Year</th>\n",
              "      <th>k_rank</th>\n",
              "      <th>Pyth</th>\n",
              "      <th>AdjustO</th>\n",
              "      <th>AdjustO Rank</th>\n",
              "      <th>AdjustD</th>\n",
              "      <th>AdjustD Rank</th>\n",
              "      <th>AdjustT</th>\n",
              "      <th>AdjustT Rank</th>\n",
              "      <th>Luck</th>\n",
              "      <th>Luck Rank</th>\n",
              "      <th>SOS Pyth</th>\n",
              "      <th>SOS Pyth Rank</th>\n",
              "      <th>SOS OppO</th>\n",
              "      <th>SOS OppO Rank</th>\n",
              "      <th>SOS OppD</th>\n",
              "      <th>SOS OppD Rank</th>\n",
              "      <th>NCSOS Pyth</th>\n",
              "      <th>NCSOS Pyth Rank</th>\n",
              "      <th>TeamID</th>\n",
              "      <th>t_rank</th>\n",
              "      <th>Rating</th>\n",
              "      <th>v1-25</th>\n",
              "    </tr>\n",
              "  </thead>\n",
              "  <tbody>\n",
              "    <tr>\n",
              "      <th>0</th>\n",
              "      <td>2002</td>\n",
              "      <td>1</td>\n",
              "      <td>34.19</td>\n",
              "      <td>121.0</td>\n",
              "      <td>1</td>\n",
              "      <td>86.8</td>\n",
              "      <td>1</td>\n",
              "      <td>74.5</td>\n",
              "      <td>8</td>\n",
              "      <td>-0.027</td>\n",
              "      <td>223</td>\n",
              "      <td>9.87</td>\n",
              "      <td>18</td>\n",
              "      <td>109.1</td>\n",
              "      <td>13</td>\n",
              "      <td>99.2</td>\n",
              "      <td>31</td>\n",
              "      <td>6.66</td>\n",
              "      <td>34</td>\n",
              "      <td>1181.0</td>\n",
              "      <td>NaN</td>\n",
              "      <td>NaN</td>\n",
              "      <td>NaN</td>\n",
              "    </tr>\n",
              "    <tr>\n",
              "      <th>1</th>\n",
              "      <td>2002</td>\n",
              "      <td>2</td>\n",
              "      <td>30.19</td>\n",
              "      <td>118.1</td>\n",
              "      <td>7</td>\n",
              "      <td>87.9</td>\n",
              "      <td>3</td>\n",
              "      <td>67.4</td>\n",
              "      <td>194</td>\n",
              "      <td>0.002</td>\n",
              "      <td>165</td>\n",
              "      <td>6.58</td>\n",
              "      <td>57</td>\n",
              "      <td>106.3</td>\n",
              "      <td>66</td>\n",
              "      <td>99.7</td>\n",
              "      <td>42</td>\n",
              "      <td>3.48</td>\n",
              "      <td>80</td>\n",
              "      <td>1153.0</td>\n",
              "      <td>NaN</td>\n",
              "      <td>NaN</td>\n",
              "      <td>NaN</td>\n",
              "    </tr>\n",
              "  </tbody>\n",
              "</table>\n",
              "</div>"
            ],
            "text/plain": [
              "   Year  k_rank   Pyth  AdjustO  ...  TeamID  t_rank  Rating  v1-25\n",
              "0  2002       1  34.19    121.0  ...  1181.0     NaN     NaN    NaN\n",
              "1  2002       2  30.19    118.1  ...  1153.0     NaN     NaN    NaN\n",
              "\n",
              "[2 rows x 23 columns]"
            ]
          },
          "metadata": {
            "tags": []
          },
          "execution_count": 26
        }
      ]
    },
    {
      "cell_type": "markdown",
      "metadata": {
        "id": "YlSttSTkw2jI",
        "colab_type": "text"
      },
      "source": [
        "### Add Season Stats for both teams to tourney_results"
      ]
    },
    {
      "cell_type": "code",
      "metadata": {
        "id": "JLRNKb2vw2jI",
        "colab_type": "code",
        "colab": {}
      },
      "source": [
        "t1 = pd.merge(tourney_result, season_stats, left_on = ['Season', 'team_x'], right_on = ['Season', 'TeamID'], how='left')\n",
        "t1 = pd.merge(t1, season_stats, left_on = ['Season', 'team_y'], right_on = ['Season', 'TeamID'], how='left')\n",
        "t1 = t1[t1['Season']>2002]\n"
      ],
      "execution_count": 0,
      "outputs": []
    },
    {
      "cell_type": "code",
      "metadata": {
        "id": "jpwMq4XwaICa",
        "colab_type": "code",
        "colab": {}
      },
      "source": [
        "t2 = pd.merge(t1,add_rank, left_on = ['team_x', 'Season'], right_on = ['TeamID', 'Year'], how = 'left')\n",
        "t2 = pd.merge(t2,add_rank, left_on = ['team_y', 'Season'], right_on = ['TeamID', 'Year'], how = 'left')\n",
        "t2 = t2.drop(columns = ['TeamID_x', 'TeamID_y', 'Year_x', 'Year_y'])\n"
      ],
      "execution_count": 0,
      "outputs": []
    },
    {
      "cell_type": "code",
      "metadata": {
        "id": "7IusmWh2thH5",
        "colab_type": "code",
        "colab": {}
      },
      "source": [
        "t2 = t2[t2['Season']>2006] #team ranking only avail after 2006"
      ],
      "execution_count": 0,
      "outputs": []
    },
    {
      "cell_type": "code",
      "metadata": {
        "id": "6uEpm4Dow2jL",
        "colab_type": "code",
        "colab": {}
      },
      "source": [
        "#for cols in t2.columns:\n",
        " # if t2[cols].isna().sum() > 0:\n",
        "  #  print(t2[cols].isna().sum(), cols)"
      ],
      "execution_count": 0,
      "outputs": []
    },
    {
      "cell_type": "code",
      "metadata": {
        "id": "dX9EFxKAuOr8",
        "colab_type": "code",
        "colab": {}
      },
      "source": [
        "for cols in t2.columns:\n",
        "  if cols[-1] == 'x':\n",
        "    t2[cols] = t2[cols].fillna(t2.groupby(['Season' ])[cols].transform('mean'))\n",
        "  if cols[-1] == 'y':\n",
        "    t2[cols] = t2[cols].fillna(t2.groupby(['Season'])[cols].transform('mean'))"
      ],
      "execution_count": 0,
      "outputs": []
    },
    {
      "cell_type": "markdown",
      "metadata": {
        "id": "rwFeSyUqFUMg",
        "colab_type": "text"
      },
      "source": [
        "## Prepare Training Set\n"
      ]
    },
    {
      "cell_type": "code",
      "metadata": {
        "id": "igJqMjJXw2ji",
        "colab_type": "code",
        "colab": {}
      },
      "source": [
        "team_cols = t2.columns\n",
        "drop_cols = team_cols.drop(['Season','team_x', 'team_y', 'result']) # save for later to drop\n",
        "drop_cols; #will drop after doing comparison calculations"
      ],
      "execution_count": 0,
      "outputs": []
    },
    {
      "cell_type": "code",
      "metadata": {
        "id": "08BPW2ZHw2jm",
        "colab_type": "code",
        "colab": {}
      },
      "source": [
        "cols = t2.columns\n",
        "c1 =[]\n",
        "for c in cols:\n",
        "    if c.find('x')>0 and c.find('team')<0:\n",
        "        c1.append(c)"
      ],
      "execution_count": 0,
      "outputs": []
    },
    {
      "cell_type": "code",
      "metadata": {
        "id": "SFjuyxJQN-QY",
        "colab_type": "code",
        "colab": {}
      },
      "source": [
        "scaler = StandardScaler()\n",
        "t2[drop_cols] = scaler.fit_transform(t2[drop_cols])"
      ],
      "execution_count": 0,
      "outputs": []
    },
    {
      "cell_type": "code",
      "metadata": {
        "scrolled": false,
        "id": "sBFB_nBdw2jt",
        "colab_type": "code",
        "colab": {}
      },
      "source": [
        "for col in c1:\n",
        "    s = col.split('_')[0]\n",
        "    name = s+'_diff'\n",
        "    t = col.replace('x','y')\n",
        "    #print(name, col,t)\n",
        "    t2[name] = t2[col]-t2[t]\n",
        "\n",
        "    name1 = s+'_ratio'\n",
        "    t2[name1] = t2[col]/t2[t]\n",
        "    "
      ],
      "execution_count": 0,
      "outputs": []
    },
    {
      "cell_type": "code",
      "metadata": {
        "id": "YQBsJxx2w2jw",
        "colab_type": "code",
        "colab": {}
      },
      "source": [
        "t2 = t2.drop(columns = drop_cols)"
      ],
      "execution_count": 0,
      "outputs": []
    },
    {
      "cell_type": "code",
      "metadata": {
        "id": "RXWTr4Kaw2kB",
        "colab_type": "code",
        "outputId": "e0cac1be-b53b-4fd8-b21f-c0494b31c1b7",
        "colab": {
          "base_uri": "https://localhost:8080/",
          "height": 194
        }
      },
      "source": [
        "train_set = t2.copy()\n",
        "train_set.head(2)"
      ],
      "execution_count": 37,
      "outputs": [
        {
          "output_type": "execute_result",
          "data": {
            "text/html": [
              "<div>\n",
              "<style scoped>\n",
              "    .dataframe tbody tr th:only-of-type {\n",
              "        vertical-align: middle;\n",
              "    }\n",
              "\n",
              "    .dataframe tbody tr th {\n",
              "        vertical-align: top;\n",
              "    }\n",
              "\n",
              "    .dataframe thead th {\n",
              "        text-align: right;\n",
              "    }\n",
              "</style>\n",
              "<table border=\"1\" class=\"dataframe\">\n",
              "  <thead>\n",
              "    <tr style=\"text-align: right;\">\n",
              "      <th></th>\n",
              "      <th>Season</th>\n",
              "      <th>team_x</th>\n",
              "      <th>team_y</th>\n",
              "      <th>result</th>\n",
              "      <th>seed_diff</th>\n",
              "      <th>seed_ratio</th>\n",
              "      <th>win_diff</th>\n",
              "      <th>win_ratio</th>\n",
              "      <th>ptsFor_diff</th>\n",
              "      <th>ptsFor_ratio</th>\n",
              "      <th>ptsAgainst_diff</th>\n",
              "      <th>ptsAgainst_ratio</th>\n",
              "      <th>Score_diff</th>\n",
              "      <th>Score_ratio</th>\n",
              "      <th>FGM_diff</th>\n",
              "      <th>FGM_ratio</th>\n",
              "      <th>FGA_diff</th>\n",
              "      <th>FGA_ratio</th>\n",
              "      <th>FGM3_diff</th>\n",
              "      <th>FGM3_ratio</th>\n",
              "      <th>FGA3_diff</th>\n",
              "      <th>FGA3_ratio</th>\n",
              "      <th>FTM_diff</th>\n",
              "      <th>FTM_ratio</th>\n",
              "      <th>FTA_diff</th>\n",
              "      <th>FTA_ratio</th>\n",
              "      <th>OR_diff</th>\n",
              "      <th>OR_ratio</th>\n",
              "      <th>DR_diff</th>\n",
              "      <th>DR_ratio</th>\n",
              "      <th>Ast_diff</th>\n",
              "      <th>Ast_ratio</th>\n",
              "      <th>TO_diff</th>\n",
              "      <th>TO_ratio</th>\n",
              "      <th>Stl_diff</th>\n",
              "      <th>Stl_ratio</th>\n",
              "      <th>Blk_diff</th>\n",
              "      <th>Blk_ratio</th>\n",
              "      <th>PF_diff</th>\n",
              "      <th>PF_ratio</th>\n",
              "      <th>...</th>\n",
              "      <th>Pyth_diff</th>\n",
              "      <th>Pyth_ratio</th>\n",
              "      <th>AdjustO_diff</th>\n",
              "      <th>AdjustO_ratio</th>\n",
              "      <th>AdjustO Rank_diff</th>\n",
              "      <th>AdjustO Rank_ratio</th>\n",
              "      <th>AdjustD_diff</th>\n",
              "      <th>AdjustD_ratio</th>\n",
              "      <th>AdjustD Rank_diff</th>\n",
              "      <th>AdjustD Rank_ratio</th>\n",
              "      <th>AdjustT_diff</th>\n",
              "      <th>AdjustT_ratio</th>\n",
              "      <th>AdjustT Rank_diff</th>\n",
              "      <th>AdjustT Rank_ratio</th>\n",
              "      <th>Luck_diff</th>\n",
              "      <th>Luck_ratio</th>\n",
              "      <th>Luck Rank_diff</th>\n",
              "      <th>Luck Rank_ratio</th>\n",
              "      <th>SOS Pyth_diff</th>\n",
              "      <th>SOS Pyth_ratio</th>\n",
              "      <th>SOS Pyth Rank_diff</th>\n",
              "      <th>SOS Pyth Rank_ratio</th>\n",
              "      <th>SOS OppO_diff</th>\n",
              "      <th>SOS OppO_ratio</th>\n",
              "      <th>SOS OppO Rank_diff</th>\n",
              "      <th>SOS OppO Rank_ratio</th>\n",
              "      <th>SOS OppD_diff</th>\n",
              "      <th>SOS OppD_ratio</th>\n",
              "      <th>SOS OppD Rank_diff</th>\n",
              "      <th>SOS OppD Rank_ratio</th>\n",
              "      <th>NCSOS Pyth_diff</th>\n",
              "      <th>NCSOS Pyth_ratio</th>\n",
              "      <th>NCSOS Pyth Rank_diff</th>\n",
              "      <th>NCSOS Pyth Rank_ratio</th>\n",
              "      <th>t_diff</th>\n",
              "      <th>t_ratio</th>\n",
              "      <th>Rating_diff</th>\n",
              "      <th>Rating_ratio</th>\n",
              "      <th>v1-25_diff</th>\n",
              "      <th>v1-25_ratio</th>\n",
              "    </tr>\n",
              "  </thead>\n",
              "  <tbody>\n",
              "    <tr>\n",
              "      <th>256</th>\n",
              "      <td>2007</td>\n",
              "      <td>1197</td>\n",
              "      <td>1310</td>\n",
              "      <td>0</td>\n",
              "      <td>-0.136778</td>\n",
              "      <td>0.930390</td>\n",
              "      <td>-0.726096</td>\n",
              "      <td>1.827863</td>\n",
              "      <td>-1.443368</td>\n",
              "      <td>-3.133656</td>\n",
              "      <td>-0.727881</td>\n",
              "      <td>0.579033</td>\n",
              "      <td>-1.443368</td>\n",
              "      <td>-3.133656</td>\n",
              "      <td>-0.991944</td>\n",
              "      <td>4.855190</td>\n",
              "      <td>-2.237676</td>\n",
              "      <td>-1.088053</td>\n",
              "      <td>-1.721003</td>\n",
              "      <td>-1.187685</td>\n",
              "      <td>-2.180142</td>\n",
              "      <td>-0.917567</td>\n",
              "      <td>-0.539664</td>\n",
              "      <td>0.421810</td>\n",
              "      <td>0.351143</td>\n",
              "      <td>1.541811</td>\n",
              "      <td>-1.055509</td>\n",
              "      <td>0.396750</td>\n",
              "      <td>0.180911</td>\n",
              "      <td>0.792367</td>\n",
              "      <td>-0.106347</td>\n",
              "      <td>1.221005</td>\n",
              "      <td>2.720503</td>\n",
              "      <td>4.585244</td>\n",
              "      <td>0.218129</td>\n",
              "      <td>0.430189</td>\n",
              "      <td>0.307290</td>\n",
              "      <td>0.860659</td>\n",
              "      <td>0.307841</td>\n",
              "      <td>-3.798378</td>\n",
              "      <td>...</td>\n",
              "      <td>-0.504697</td>\n",
              "      <td>1.202203</td>\n",
              "      <td>-1.090396</td>\n",
              "      <td>1.970836</td>\n",
              "      <td>1.624944</td>\n",
              "      <td>2.352279</td>\n",
              "      <td>-0.328135</td>\n",
              "      <td>0.892298</td>\n",
              "      <td>-0.543265</td>\n",
              "      <td>0.866882</td>\n",
              "      <td>-0.285597</td>\n",
              "      <td>0.631456</td>\n",
              "      <td>0.318573</td>\n",
              "      <td>0.703563</td>\n",
              "      <td>-0.300795</td>\n",
              "      <td>0.868740</td>\n",
              "      <td>0.049383</td>\n",
              "      <td>0.96815</td>\n",
              "      <td>-0.532712</td>\n",
              "      <td>1.224773</td>\n",
              "      <td>0.285309</td>\n",
              "      <td>1.11262</td>\n",
              "      <td>-0.928128</td>\n",
              "      <td>1.467426</td>\n",
              "      <td>0.436255</td>\n",
              "      <td>1.183740</td>\n",
              "      <td>-0.024754</td>\n",
              "      <td>0.989847</td>\n",
              "      <td>0.210772</td>\n",
              "      <td>1.085063</td>\n",
              "      <td>3.735510</td>\n",
              "      <td>-1.578943</td>\n",
              "      <td>-3.018361</td>\n",
              "      <td>-1.000556</td>\n",
              "      <td>2.984941</td>\n",
              "      <td>3.087990</td>\n",
              "      <td>-1.529067</td>\n",
              "      <td>3.278480</td>\n",
              "      <td>0.058242</td>\n",
              "      <td>0.941802</td>\n",
              "    </tr>\n",
              "    <tr>\n",
              "      <th>257</th>\n",
              "      <td>2007</td>\n",
              "      <td>1130</td>\n",
              "      <td>1403</td>\n",
              "      <td>1</td>\n",
              "      <td>-0.723954</td>\n",
              "      <td>-0.071487</td>\n",
              "      <td>0.197802</td>\n",
              "      <td>0.833194</td>\n",
              "      <td>0.497614</td>\n",
              "      <td>0.041946</td>\n",
              "      <td>0.195140</td>\n",
              "      <td>1.277021</td>\n",
              "      <td>0.497614</td>\n",
              "      <td>0.041946</td>\n",
              "      <td>0.360717</td>\n",
              "      <td>0.499738</td>\n",
              "      <td>-0.316322</td>\n",
              "      <td>1.439870</td>\n",
              "      <td>-0.254225</td>\n",
              "      <td>1.400775</td>\n",
              "      <td>0.599951</td>\n",
              "      <td>0.574912</td>\n",
              "      <td>0.726819</td>\n",
              "      <td>2.196629</td>\n",
              "      <td>0.877373</td>\n",
              "      <td>4.226176</td>\n",
              "      <td>1.388107</td>\n",
              "      <td>-0.241405</td>\n",
              "      <td>0.851685</td>\n",
              "      <td>0.576924</td>\n",
              "      <td>0.759554</td>\n",
              "      <td>-0.278848</td>\n",
              "      <td>1.405686</td>\n",
              "      <td>-5.535807</td>\n",
              "      <td>-0.944277</td>\n",
              "      <td>-11.826336</td>\n",
              "      <td>3.243349</td>\n",
              "      <td>-0.676060</td>\n",
              "      <td>-1.255131</td>\n",
              "      <td>79.513923</td>\n",
              "      <td>...</td>\n",
              "      <td>0.691821</td>\n",
              "      <td>0.234773</td>\n",
              "      <td>0.873374</td>\n",
              "      <td>-2.310854</td>\n",
              "      <td>-0.747764</td>\n",
              "      <td>-5.688798</td>\n",
              "      <td>-0.256039</td>\n",
              "      <td>0.800745</td>\n",
              "      <td>-0.316270</td>\n",
              "      <td>0.719404</td>\n",
              "      <td>-0.294282</td>\n",
              "      <td>2.022642</td>\n",
              "      <td>0.295232</td>\n",
              "      <td>2.210947</td>\n",
              "      <td>-0.652035</td>\n",
              "      <td>0.245207</td>\n",
              "      <td>0.768949</td>\n",
              "      <td>0.26723</td>\n",
              "      <td>0.531884</td>\n",
              "      <td>3.031471</td>\n",
              "      <td>-0.467685</td>\n",
              "      <td>2.61996</td>\n",
              "      <td>0.826776</td>\n",
              "      <td>3.562953</td>\n",
              "      <td>-0.565282</td>\n",
              "      <td>3.055502</td>\n",
              "      <td>-0.093813</td>\n",
              "      <td>1.593451</td>\n",
              "      <td>-0.133657</td>\n",
              "      <td>1.397298</td>\n",
              "      <td>-1.127108</td>\n",
              "      <td>-1.588607</td>\n",
              "      <td>1.255734</td>\n",
              "      <td>-1.034111</td>\n",
              "      <td>0.264809</td>\n",
              "      <td>2.050543</td>\n",
              "      <td>-0.300319</td>\n",
              "      <td>-1.147425</td>\n",
              "      <td>-1.892203</td>\n",
              "      <td>-0.992446</td>\n",
              "    </tr>\n",
              "  </tbody>\n",
              "</table>\n",
              "<p>2 rows × 86 columns</p>\n",
              "</div>"
            ],
            "text/plain": [
              "     Season  team_x  team_y  ...  Rating_ratio  v1-25_diff  v1-25_ratio\n",
              "256    2007    1197    1310  ...      3.278480    0.058242     0.941802\n",
              "257    2007    1130    1403  ...     -1.147425   -1.892203    -0.992446\n",
              "\n",
              "[2 rows x 86 columns]"
            ]
          },
          "metadata": {
            "tags": []
          },
          "execution_count": 37
        }
      ]
    },
    {
      "cell_type": "code",
      "metadata": {
        "id": "VawewRWrw2kE",
        "colab_type": "code",
        "colab": {}
      },
      "source": [
        "#check for any missing values\n",
        "for cols in train_set.columns:\n",
        "    if train_set[cols].isna().sum() > 0:\n",
        "        print(train_set[cols].isna().sum(), cols)"
      ],
      "execution_count": 0,
      "outputs": []
    },
    {
      "cell_type": "markdown",
      "metadata": {
        "id": "oldM6XfQFdeN",
        "colab_type": "text"
      },
      "source": [
        "### Define Training and Testing Windows\n",
        "##### Train on seasons before selected season, test on selected season\n"
      ]
    },
    {
      "cell_type": "code",
      "metadata": {
        "id": "jj5qtNnKw2kJ",
        "colab_type": "code",
        "colab": {}
      },
      "source": [
        "def train_test_window_fit(model, df, season,start_window):\n",
        "    r = [x for x in range(start_window, season)]\n",
        "    train = df[df['Season'].isin(r)]\n",
        "    train_y = train['result']\n",
        "    test = df[df['Season']==season]\n",
        "    test_y = test['result']\n",
        "    train = train.drop(columns = ['Season', 'team_x', 'team_y','result'])\n",
        "    test = test.drop(columns = ['Season', 'team_x', 'team_y','result'])\n",
        "    model.fit(train, train_y)\n",
        "    #print(train.columns)\n",
        "    pr = model.predict_proba(test)[:,1]\n",
        "    p = model.predict(test)\n",
        "    print(str(season),'Log_loss',round(log_loss(test_y, pr),4),'Acc:',round(accuracy_score(test_y, p),4))\n",
        "    \n",
        "    \n",
        "    #return train, train_y, test, test_y"
      ],
      "execution_count": 0,
      "outputs": []
    },
    {
      "cell_type": "markdown",
      "metadata": {
        "id": "eshNODLlFnjl",
        "colab_type": "text"
      },
      "source": [
        "## Test Models"
      ]
    },
    {
      "cell_type": "code",
      "metadata": {
        "id": "QDB5_oEZw2kL",
        "colab_type": "code",
        "outputId": "3332b1a3-b8e7-4c54-c044-735d941e65d7",
        "colab": {
          "base_uri": "https://localhost:8080/",
          "height": 102
        }
      },
      "source": [
        "#Logistic Regression\n",
        "LR = LogisticRegression(C=1,max_iter = 1E6,penalty='l2')\n",
        "seasons = [2015,2016,2017,2018,2019]\n",
        "for s in seasons:\n",
        "    train_test_window_fit(LR, train_set, s, 2007)"
      ],
      "execution_count": 40,
      "outputs": [
        {
          "output_type": "stream",
          "text": [
            "2015 Log_loss 0.8845 Acc: 0.7612\n",
            "2016 Log_loss 0.4389 Acc: 0.8209\n",
            "2017 Log_loss 0.363 Acc: 0.806\n",
            "2018 Log_loss 0.5233 Acc: 0.7463\n",
            "2019 Log_loss 0.4523 Acc: 0.8358\n"
          ],
          "name": "stdout"
        }
      ]
    },
    {
      "cell_type": "code",
      "metadata": {
        "id": "ChftIwiPPN3H",
        "colab_type": "code",
        "colab": {}
      },
      "source": [
        "train_cols = train_set.columns[4:]\n",
        "\n",
        "LR_coefs =  pd.DataFrame({'Variable':list(train_cols), 'Coef':list(LR.coef_[0])}).sort_values(by = 'Coef', ascending = False)"
      ],
      "execution_count": 0,
      "outputs": []
    },
    {
      "cell_type": "code",
      "metadata": {
        "id": "jOp-iaTPQArr",
        "colab_type": "code",
        "outputId": "3471b1f7-472c-4276-8d81-72a336d0c3fc",
        "colab": {
          "base_uri": "https://localhost:8080/",
          "height": 464
        }
      },
      "source": [
        "plt.figure(figsize=(40,10))\n",
        "plt.bar(LR_coefs['Variable'],LR_coefs['Coef'])\n",
        "plt.xticks(range(len(LR_coefs)), LR_coefs['Variable'], rotation=90);\n",
        "for i, v in enumerate(LR_coefs['Coef']):\n",
        "  if v > 0:\n",
        "    plt.text(range(len(LR_coefs))[i] -.2, v, str(round(v,2)))\n",
        "  if v < 0:\n",
        "    plt.text(range(len(LR_coefs))[i] -.2, v-.12, str(round(v,2))) "
      ],
      "execution_count": 42,
      "outputs": [
        {
          "output_type": "display_data",
          "data": {
            "image/png": "[encoded data removed]",
            "text/plain": [
              "<Figure size 2880x720 with 1 Axes>"
            ]
          },
          "metadata": {
            "tags": []
          }
        }
      ]
    },
    {
      "cell_type": "code",
      "metadata": {
        "id": "wnTrxFHHTiG2",
        "colab_type": "code",
        "colab": {}
      },
      "source": [
        "LR_keep = list(LR_coefs[(LR_coefs['Coef'] >.2) | (LR_coefs['Coef'] <-.2)]['Variable'])"
      ],
      "execution_count": 0,
      "outputs": []
    },
    {
      "cell_type": "code",
      "metadata": {
        "id": "bGkJNCakWHz9",
        "colab_type": "code",
        "colab": {}
      },
      "source": [
        "LR_keep = LR_keep + ['Season', 'team_x', 'team_y','result']"
      ],
      "execution_count": 0,
      "outputs": []
    },
    {
      "cell_type": "code",
      "metadata": {
        "id": "SB6xBma9TWa6",
        "colab_type": "code",
        "colab": {}
      },
      "source": [
        "train1 = train_set.copy()\n",
        "train1 = train1[LR_keep]"
      ],
      "execution_count": 0,
      "outputs": []
    },
    {
      "cell_type": "code",
      "metadata": {
        "id": "vIxi2IgPTWjE",
        "colab_type": "code",
        "outputId": "7ddaea6d-2145-4950-ddad-2bc112f8c809",
        "colab": {
          "base_uri": "https://localhost:8080/",
          "height": 102
        }
      },
      "source": [
        "#Logistic Regression\n",
        "LR = LogisticRegression(C=1,max_iter = 1E6,penalty='l2')\n",
        "seasons = [2015,2016,2017,2018,2019]\n",
        "for s in seasons:\n",
        "    train_test_window_fit(LR, train1, s, 2007)"
      ],
      "execution_count": 46,
      "outputs": [
        {
          "output_type": "stream",
          "text": [
            "2015 Log_loss 0.435 Acc: 0.806\n",
            "2016 Log_loss 0.4073 Acc: 0.791\n",
            "2017 Log_loss 0.3551 Acc: 0.8358\n",
            "2018 Log_loss 0.3859 Acc: 0.791\n",
            "2019 Log_loss 0.2829 Acc: 0.8955\n"
          ],
          "name": "stdout"
        }
      ]
    },
    {
      "cell_type": "code",
      "metadata": {
        "id": "HAhbxDB0_iSz",
        "colab_type": "code",
        "colab": {
          "base_uri": "https://localhost:8080/",
          "height": 102
        },
        "outputId": "63d4c8b1-10bb-4b0b-bd4c-25e81326bf11"
      },
      "source": [
        "# Decision Tree\n",
        "DT = DecisionTreeClassifier(max_depth = 2)\n",
        "for s in seasons:\n",
        "    train_test_window_fit(DT, train1, s, 2007)"
      ],
      "execution_count": 54,
      "outputs": [
        {
          "output_type": "stream",
          "text": [
            "2015 Log_loss 0.4901 Acc: 0.7761\n",
            "2016 Log_loss 0.5218 Acc: 0.7761\n",
            "2017 Log_loss 0.5176 Acc: 0.7313\n",
            "2018 Log_loss 0.5444 Acc: 0.7313\n",
            "2019 Log_loss 0.4282 Acc: 0.806\n"
          ],
          "name": "stdout"
        }
      ]
    },
    {
      "cell_type": "code",
      "metadata": {
        "id": "O4_sUZD4TWrz",
        "colab_type": "code",
        "outputId": "2b7051f6-c979-4baf-d5a9-e0d1994446c1",
        "colab": {
          "base_uri": "https://localhost:8080/",
          "height": 102
        }
      },
      "source": [
        "#NN MLP Classifier\n",
        "import warnings\n",
        "warnings.filterwarnings(\"ignore\")\n",
        "\n",
        "mlp = MLPClassifier()\n",
        "seasons = [2015,2016,2017,2018,2019]\n",
        "for s in seasons:\n",
        "    train_test_window_fit(mlp, train1, s, 2007)"
      ],
      "execution_count": 47,
      "outputs": [
        {
          "output_type": "stream",
          "text": [
            "2015 Log_loss 0.4323 Acc: 0.7761\n",
            "2016 Log_loss 0.5344 Acc: 0.7761\n",
            "2017 Log_loss 0.3875 Acc: 0.8358\n",
            "2018 Log_loss 0.4725 Acc: 0.806\n",
            "2019 Log_loss 0.291 Acc: 0.8657\n"
          ],
          "name": "stdout"
        }
      ]
    }
  ]
}