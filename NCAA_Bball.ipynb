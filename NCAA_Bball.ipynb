{
  "nbformat": 4,
  "nbformat_minor": 0,
  "metadata": {
    "kernelspec": {
      "display_name": "Python 3",
      "language": "python",
      "name": "python3"
    },
    "language_info": {
      "codemirror_mode": {
        "name": "ipython",
        "version": 3
      },
      "file_extension": ".py",
      "mimetype": "text/x-python",
      "name": "python",
      "nbconvert_exporter": "python",
      "pygments_lexer": "ipython3",
      "version": "3.7.3"
    },
    "colab": {
      "name": "Copy of NCAA_Bball.ipynb",
      "provenance": [],
      "collapsed_sections": [],
      "toc_visible": true,
      "include_colab_link": true
    }
  },
  "cells": [
    {
      "cell_type": "markdown",
      "metadata": {
        "id": "view-in-github",
        "colab_type": "text"
      },
      "source": [
        "<a href=\"https://colab.research.google.com/github/cam-d/Work_Examples/blob/master/NCAA_Bball.ipynb\" target=\"_parent\"><img src=\"https://colab.research.google.com/assets/colab-badge.svg\" alt=\"Open In Colab\"/></a>"
      ]
    },
    {
      "cell_type": "markdown",
      "metadata": {
        "id": "MxX51dDVALoe",
        "colab_type": "text"
      },
      "source": [
        "##### I was running this in Google Colab.  The cell below mounted my google drive so I could use for working directory."
      ]
    },
    {
      "cell_type": "code",
      "metadata": {
        "id": "0AAH3I-W-_2-",
        "colab_type": "code",
        "colab": {}
      },
      "source": [
        "from google.colab import drive\n",
        "drive.mount('/content/drive')"
      ],
      "execution_count": 0,
      "outputs": []
    },
    {
      "cell_type": "markdown",
      "metadata": {
        "id": "SeAc2_qkw2fM",
        "colab_type": "text"
      },
      "source": [
        "## Import Packages and setup Working Directory"
      ]
    },
    {
      "cell_type": "code",
      "metadata": {
        "id": "SQnPhAzCxwur",
        "colab_type": "code",
        "outputId": "0ff5c4a3-d3e7-4af5-f03b-c2a92f210b57",
        "colab": {
          "base_uri": "https://localhost:8080/",
          "height": 34
        }
      },
      "source": [
        "import os\n",
        "os.chdir('/content/drive/My Drive/Colab Notebooks/MDataFiles_Stage1/')\n",
        "os.getcwd()"
      ],
      "execution_count": 45,
      "outputs": [
        {
          "output_type": "execute_result",
          "data": {
            "text/plain": [
              "'/content/drive/My Drive/Colab Notebooks/MDataFiles_Stage1'"
            ]
          },
          "metadata": {
            "tags": []
          },
          "execution_count": 45
        }
      ]
    },
    {
      "cell_type": "code",
      "metadata": {
        "id": "zwGzwbVLw2fR",
        "colab_type": "code",
        "colab": {}
      },
      "source": [
        "import pandas as pd\n",
        "import numpy as np\n",
        "import plotly.express as px \n",
        "import plotly.graph_objects as go\n",
        "import matplotlib.pyplot as plt\n",
        "from sklearn.utils import shuffle\n",
        "from sklearn.model_selection import GridSearchCV, train_test_split\n",
        "from sklearn.ensemble import RandomForestClassifier\n",
        "from sklearn.tree import DecisionTreeClassifier\n",
        "from sklearn.preprocessing import StandardScaler, OrdinalEncoder\n",
        "from sklearn.feature_selection import f_classif, mutual_info_classif\n",
        "from sklearn.neural_network import MLPClassifier\n",
        "from xgboost import XGBClassifier\n",
        "from sklearn.linear_model import LogisticRegression\n",
        "from sklearn.metrics import *"
      ],
      "execution_count": 0,
      "outputs": []
    },
    {
      "cell_type": "code",
      "metadata": {
        "id": "qiPuo96Uw2fa",
        "colab_type": "code",
        "colab": {}
      },
      "source": [
        "def importanceList(classifier, columns):\n",
        "    idf = pd.DataFrame({'Importance': classifier.feature_importances_}, index=columns.columns).sort_values(['Importance'], ascending=False)\n",
        "    #return idf[idf['Importance']!=0]\n",
        "    return idf"
      ],
      "execution_count": 0,
      "outputs": []
    },
    {
      "cell_type": "markdown",
      "metadata": {
        "id": "Cg-3Db5EGuoc",
        "colab_type": "text"
      },
      "source": [
        "## Load Tournament Data (Results and Seeds from previous years)"
      ]
    },
    {
      "cell_type": "code",
      "metadata": {
        "_cell_guid": "79c7e3d0-c299-4dcb-8224-4455121ee9b0",
        "_uuid": "d629ff2d2480ee46fbb7e2d37f6b5fab8052498a",
        "id": "0oyNsoc6w2fg",
        "colab_type": "code",
        "colab": {}
      },
      "source": [
        "tourney_result = pd.read_csv('MNCAATourneyCompactResults.csv')\n",
        "tourney_seed = pd.read_csv('MNCAATourneySeeds.csv')"
      ],
      "execution_count": 0,
      "outputs": []
    },
    {
      "cell_type": "code",
      "metadata": {
        "scrolled": true,
        "id": "6lb1jGV4w2fn",
        "colab_type": "code",
        "colab": {}
      },
      "source": [
        "# delete unnecessary columns\n",
        "tourney_result = tourney_result.drop(['DayNum', 'WScore', 'LScore', 'WLoc', 'NumOT'], axis=1)"
      ],
      "execution_count": 0,
      "outputs": []
    },
    {
      "cell_type": "markdown",
      "metadata": {
        "id": "bgge830xw2fw",
        "colab_type": "text"
      },
      "source": [
        "## arrange so lower ID is first, same format as prediction set.  \n",
        "#### team_x is team with lower ID, result is if lowerID team won"
      ]
    },
    {
      "cell_type": "code",
      "metadata": {
        "id": "5eHzLbPKw2fy",
        "colab_type": "code",
        "colab": {}
      },
      "source": [
        "tourney_result['team_x'] = tourney_result[['WTeamID', 'LTeamID']].apply(min, axis =1)\n",
        "tourney_result['team_y'] = tourney_result[['WTeamID', 'LTeamID']].apply(max, axis =1)\n",
        "tourney_result['result'] = np.where(tourney_result['team_x']==tourney_result['WTeamID'],1,0)\n",
        "tourney_result = tourney_result.drop(columns = ['WTeamID', 'LTeamID'])"
      ],
      "execution_count": 0,
      "outputs": []
    },
    {
      "cell_type": "markdown",
      "metadata": {
        "id": "giagBDN7w2gG",
        "colab_type": "text"
      },
      "source": [
        "## Merge Seed to tournanament results"
      ]
    },
    {
      "cell_type": "code",
      "metadata": {
        "id": "UqrTP6bKw2gI",
        "colab_type": "code",
        "colab": {}
      },
      "source": [
        "tourney_result = pd.merge(tourney_result, tourney_seed, left_on=['Season', 'team_x'], right_on=['Season', 'TeamID'], how='left')\n",
        "tourney_result.rename(columns={'Seed':'seed_x'}, inplace=True)\n",
        "tourney_result = tourney_result.drop('TeamID', axis=1)\n",
        "tourney_result = pd.merge(tourney_result, tourney_seed, left_on=['Season', 'team_y'], right_on=['Season', 'TeamID'], how='left')\n",
        "tourney_result.rename(columns={'Seed':'seed_y'}, inplace=True)\n",
        "tourney_result = tourney_result.drop('TeamID', axis=1)\n",
        "tourney_result.head(3);"
      ],
      "execution_count": 0,
      "outputs": []
    },
    {
      "cell_type": "code",
      "metadata": {
        "scrolled": true,
        "id": "p5cHizxHw2gO",
        "colab_type": "code",
        "colab": {}
      },
      "source": [
        "def get_seed(x):\n",
        "    return int(x[1:3])\n",
        "\n",
        "tourney_result['seed_x'] = tourney_result['seed_x'].map(lambda x: get_seed(x))\n",
        "tourney_result['seed_y'] = tourney_result['seed_y'].map(lambda x: get_seed(x))\n",
        "tourney_result.head(3);"
      ],
      "execution_count": 0,
      "outputs": []
    },
    {
      "cell_type": "markdown",
      "metadata": {
        "id": "yo1J1EOlw2hg",
        "colab_type": "text"
      },
      "source": [
        "## Get Game stats from regular season"
      ]
    },
    {
      "cell_type": "code",
      "metadata": {
        "id": "z7VbqnXzw2hh",
        "colab_type": "code",
        "colab": {}
      },
      "source": [
        "season_result = pd.read_csv('MRegularSeasonCompactResults.csv')"
      ],
      "execution_count": 0,
      "outputs": []
    },
    {
      "cell_type": "code",
      "metadata": {
        "id": "2Yo6ake7w2hm",
        "colab_type": "code",
        "outputId": "7a12d427-a91c-4831-dc90-656c8f983494",
        "colab": {
          "base_uri": "https://localhost:8080/",
          "height": 80
        }
      },
      "source": [
        "season_result.head(1)"
      ],
      "execution_count": 54,
      "outputs": [
        {
          "output_type": "execute_result",
          "data": {
            "text/html": [
              "<div>\n",
              "<style scoped>\n",
              "    .dataframe tbody tr th:only-of-type {\n",
              "        vertical-align: middle;\n",
              "    }\n",
              "\n",
              "    .dataframe tbody tr th {\n",
              "        vertical-align: top;\n",
              "    }\n",
              "\n",
              "    .dataframe thead th {\n",
              "        text-align: right;\n",
              "    }\n",
              "</style>\n",
              "<table border=\"1\" class=\"dataframe\">\n",
              "  <thead>\n",
              "    <tr style=\"text-align: right;\">\n",
              "      <th></th>\n",
              "      <th>Season</th>\n",
              "      <th>DayNum</th>\n",
              "      <th>WTeamID</th>\n",
              "      <th>WScore</th>\n",
              "      <th>LTeamID</th>\n",
              "      <th>LScore</th>\n",
              "      <th>WLoc</th>\n",
              "      <th>NumOT</th>\n",
              "    </tr>\n",
              "  </thead>\n",
              "  <tbody>\n",
              "    <tr>\n",
              "      <th>0</th>\n",
              "      <td>1985</td>\n",
              "      <td>20</td>\n",
              "      <td>1228</td>\n",
              "      <td>81</td>\n",
              "      <td>1328</td>\n",
              "      <td>64</td>\n",
              "      <td>N</td>\n",
              "      <td>0</td>\n",
              "    </tr>\n",
              "  </tbody>\n",
              "</table>\n",
              "</div>"
            ],
            "text/plain": [
              "   Season  DayNum  WTeamID  WScore  LTeamID  LScore WLoc  NumOT\n",
              "0    1985      20     1228      81     1328      64    N      0"
            ]
          },
          "metadata": {
            "tags": []
          },
          "execution_count": 54
        }
      ]
    },
    {
      "cell_type": "code",
      "metadata": {
        "id": "vNByjFsZw2hs",
        "colab_type": "code",
        "outputId": "38019f90-5e75-49fd-a2ea-c3f1d1cd192f",
        "colab": {
          "base_uri": "https://localhost:8080/",
          "height": 142
        }
      },
      "source": [
        "#get season wins and pts for / against\n",
        "wins = pd.DataFrame(season_result.groupby(['Season','WTeamID']).agg({'WTeamID':'count', 'WScore':'sum', 'LScore':'sum'}))\n",
        "wins.columns = ['Wins', 'PtsFor', 'PtsAgnst']\n",
        "wins.reset_index(inplace = True)\n",
        "wins= wins.rename(columns = {'WTeamID':'TeamID'})\n",
        "wins;\n",
        "\n",
        "#get season losses and pts for / against\n",
        "losses = pd.DataFrame(season_result.groupby(['Season','LTeamID']).agg({'LTeamID':'count', 'LScore':'sum', 'WScore':'sum'}))\n",
        "losses.columns = ['Losses', 'PtsFor', 'PtsAgnst']\n",
        "losses.reset_index(inplace = True)\n",
        "losses= losses.rename(columns = {'LTeamID':'TeamID'})\n",
        "losses;\n",
        "\n",
        "### merge results for season record and win percent\n",
        "season_record = pd.merge(wins, losses, left_on = ['Season', 'TeamID'], right_on=['Season', 'TeamID'], how = 'left')\n",
        "season_record = season_record.fillna(0) # Kentucky went undefeated in 2015\n",
        "### copy for Strength of Sched\n",
        "season_record_copy = season_record.copy()\n",
        "###\n",
        "season_record['win_pct'] = season_record['Wins']/(season_record['Wins']+season_record['Losses'])\n",
        "season_record['ptsFor'] = (season_record['PtsFor_x'] + season_record['PtsFor_y'])/(season_record['Wins']+season_record['Losses'])\n",
        "season_record['ptsAgainst'] = (season_record['PtsAgnst_x'] + season_record['PtsAgnst_y'])/(season_record['Wins']+season_record['Losses'])\n",
        "season_record = season_record[['Season', 'TeamID', 'win_pct', 'ptsFor', 'ptsAgainst']]\n",
        "season_record.head(3)"
      ],
      "execution_count": 55,
      "outputs": [
        {
          "output_type": "execute_result",
          "data": {
            "text/html": [
              "<div>\n",
              "<style scoped>\n",
              "    .dataframe tbody tr th:only-of-type {\n",
              "        vertical-align: middle;\n",
              "    }\n",
              "\n",
              "    .dataframe tbody tr th {\n",
              "        vertical-align: top;\n",
              "    }\n",
              "\n",
              "    .dataframe thead th {\n",
              "        text-align: right;\n",
              "    }\n",
              "</style>\n",
              "<table border=\"1\" class=\"dataframe\">\n",
              "  <thead>\n",
              "    <tr style=\"text-align: right;\">\n",
              "      <th></th>\n",
              "      <th>Season</th>\n",
              "      <th>TeamID</th>\n",
              "      <th>win_pct</th>\n",
              "      <th>ptsFor</th>\n",
              "      <th>ptsAgainst</th>\n",
              "    </tr>\n",
              "  </thead>\n",
              "  <tbody>\n",
              "    <tr>\n",
              "      <th>0</th>\n",
              "      <td>1985</td>\n",
              "      <td>1102</td>\n",
              "      <td>0.208333</td>\n",
              "      <td>63.083333</td>\n",
              "      <td>68.875000</td>\n",
              "    </tr>\n",
              "    <tr>\n",
              "      <th>1</th>\n",
              "      <td>1985</td>\n",
              "      <td>1103</td>\n",
              "      <td>0.391304</td>\n",
              "      <td>61.043478</td>\n",
              "      <td>64.086957</td>\n",
              "    </tr>\n",
              "    <tr>\n",
              "      <th>2</th>\n",
              "      <td>1985</td>\n",
              "      <td>1104</td>\n",
              "      <td>0.700000</td>\n",
              "      <td>68.500000</td>\n",
              "      <td>60.700000</td>\n",
              "    </tr>\n",
              "  </tbody>\n",
              "</table>\n",
              "</div>"
            ],
            "text/plain": [
              "   Season  TeamID   win_pct     ptsFor  ptsAgainst\n",
              "0    1985    1102  0.208333  63.083333   68.875000\n",
              "1    1985    1103  0.391304  61.043478   64.086957\n",
              "2    1985    1104  0.700000  68.500000   60.700000"
            ]
          },
          "metadata": {
            "tags": []
          },
          "execution_count": 55
        }
      ]
    },
    {
      "cell_type": "markdown",
      "metadata": {
        "id": "igekNkKYH75E",
        "colab_type": "text"
      },
      "source": [
        "## Get Regular Season Detailed Stats"
      ]
    },
    {
      "cell_type": "code",
      "metadata": {
        "id": "0sXlQ5-kw2ij",
        "colab_type": "code",
        "colab": {}
      },
      "source": [
        "###\n",
        "season_details = pd.read_csv('MRegularSeasonDetailedResults.csv')"
      ],
      "execution_count": 0,
      "outputs": []
    },
    {
      "cell_type": "code",
      "metadata": {
        "scrolled": true,
        "id": "eC15yzKXw2im",
        "colab_type": "code",
        "outputId": "ba29dcb5-7550-4355-a2e4-bc9340953d05",
        "colab": {
          "base_uri": "https://localhost:8080/",
          "height": 131
        }
      },
      "source": [
        "season_details.head(2)"
      ],
      "execution_count": 57,
      "outputs": [
        {
          "output_type": "execute_result",
          "data": {
            "text/html": [
              "<div>\n",
              "<style scoped>\n",
              "    .dataframe tbody tr th:only-of-type {\n",
              "        vertical-align: middle;\n",
              "    }\n",
              "\n",
              "    .dataframe tbody tr th {\n",
              "        vertical-align: top;\n",
              "    }\n",
              "\n",
              "    .dataframe thead th {\n",
              "        text-align: right;\n",
              "    }\n",
              "</style>\n",
              "<table border=\"1\" class=\"dataframe\">\n",
              "  <thead>\n",
              "    <tr style=\"text-align: right;\">\n",
              "      <th></th>\n",
              "      <th>Season</th>\n",
              "      <th>DayNum</th>\n",
              "      <th>WTeamID</th>\n",
              "      <th>WScore</th>\n",
              "      <th>LTeamID</th>\n",
              "      <th>LScore</th>\n",
              "      <th>WLoc</th>\n",
              "      <th>NumOT</th>\n",
              "      <th>WFGM</th>\n",
              "      <th>WFGA</th>\n",
              "      <th>WFGM3</th>\n",
              "      <th>WFGA3</th>\n",
              "      <th>WFTM</th>\n",
              "      <th>WFTA</th>\n",
              "      <th>WOR</th>\n",
              "      <th>WDR</th>\n",
              "      <th>WAst</th>\n",
              "      <th>WTO</th>\n",
              "      <th>WStl</th>\n",
              "      <th>WBlk</th>\n",
              "      <th>WPF</th>\n",
              "      <th>LFGM</th>\n",
              "      <th>LFGA</th>\n",
              "      <th>LFGM3</th>\n",
              "      <th>LFGA3</th>\n",
              "      <th>LFTM</th>\n",
              "      <th>LFTA</th>\n",
              "      <th>LOR</th>\n",
              "      <th>LDR</th>\n",
              "      <th>LAst</th>\n",
              "      <th>LTO</th>\n",
              "      <th>LStl</th>\n",
              "      <th>LBlk</th>\n",
              "      <th>LPF</th>\n",
              "    </tr>\n",
              "  </thead>\n",
              "  <tbody>\n",
              "    <tr>\n",
              "      <th>0</th>\n",
              "      <td>2003</td>\n",
              "      <td>10</td>\n",
              "      <td>1104</td>\n",
              "      <td>68</td>\n",
              "      <td>1328</td>\n",
              "      <td>62</td>\n",
              "      <td>N</td>\n",
              "      <td>0</td>\n",
              "      <td>27</td>\n",
              "      <td>58</td>\n",
              "      <td>3</td>\n",
              "      <td>14</td>\n",
              "      <td>11</td>\n",
              "      <td>18</td>\n",
              "      <td>14</td>\n",
              "      <td>24</td>\n",
              "      <td>13</td>\n",
              "      <td>23</td>\n",
              "      <td>7</td>\n",
              "      <td>1</td>\n",
              "      <td>22</td>\n",
              "      <td>22</td>\n",
              "      <td>53</td>\n",
              "      <td>2</td>\n",
              "      <td>10</td>\n",
              "      <td>16</td>\n",
              "      <td>22</td>\n",
              "      <td>10</td>\n",
              "      <td>22</td>\n",
              "      <td>8</td>\n",
              "      <td>18</td>\n",
              "      <td>9</td>\n",
              "      <td>2</td>\n",
              "      <td>20</td>\n",
              "    </tr>\n",
              "    <tr>\n",
              "      <th>1</th>\n",
              "      <td>2003</td>\n",
              "      <td>10</td>\n",
              "      <td>1272</td>\n",
              "      <td>70</td>\n",
              "      <td>1393</td>\n",
              "      <td>63</td>\n",
              "      <td>N</td>\n",
              "      <td>0</td>\n",
              "      <td>26</td>\n",
              "      <td>62</td>\n",
              "      <td>8</td>\n",
              "      <td>20</td>\n",
              "      <td>10</td>\n",
              "      <td>19</td>\n",
              "      <td>15</td>\n",
              "      <td>28</td>\n",
              "      <td>16</td>\n",
              "      <td>13</td>\n",
              "      <td>4</td>\n",
              "      <td>4</td>\n",
              "      <td>18</td>\n",
              "      <td>24</td>\n",
              "      <td>67</td>\n",
              "      <td>6</td>\n",
              "      <td>24</td>\n",
              "      <td>9</td>\n",
              "      <td>20</td>\n",
              "      <td>20</td>\n",
              "      <td>25</td>\n",
              "      <td>7</td>\n",
              "      <td>12</td>\n",
              "      <td>8</td>\n",
              "      <td>6</td>\n",
              "      <td>16</td>\n",
              "    </tr>\n",
              "  </tbody>\n",
              "</table>\n",
              "</div>"
            ],
            "text/plain": [
              "   Season  DayNum  WTeamID  WScore  LTeamID  ...  LAst LTO  LStl  LBlk  LPF\n",
              "0    2003      10     1104      68     1328  ...     8  18     9     2   20\n",
              "1    2003      10     1272      70     1393  ...     7  12     8     6   16\n",
              "\n",
              "[2 rows x 34 columns]"
            ]
          },
          "metadata": {
            "tags": []
          },
          "execution_count": 57
        }
      ]
    },
    {
      "cell_type": "code",
      "metadata": {
        "id": "U0nR8zGbw2it",
        "colab_type": "code",
        "outputId": "e5c853fa-24fc-4171-8665-fc6e046c2dc2",
        "colab": {
          "base_uri": "https://localhost:8080/",
          "height": 111
        }
      },
      "source": [
        "### season avgs, will need to do 2x, once for W, once for Ls, then avg for all season\n",
        "win_stats = season_details[['Season', 'DayNum', 'WTeamID', 'WScore', 'WFGM', 'WFGA', 'WFGM3', 'WFGA3', 'WFTM', 'WFTA', 'WOR', 'WDR',\n",
        "       'WAst', 'WTO', 'WStl', 'WBlk', 'WPF',]]\n",
        "\n",
        "loss_stats = season_details[['Season', 'DayNum', 'LTeamID', 'LScore', 'LFGM', 'LFGA', 'LFGM3', 'LFGA3',\n",
        "       'LFTM', 'LFTA', 'LOR', 'LDR', 'LAst', 'LTO', 'LStl', 'LBlk', 'LPF']]\n",
        "\n",
        "stat_names = ['Season', 'DayNum', 'TeamID', 'Score', 'FGM', 'FGA', 'FGM3', 'FGA3',\n",
        "       'FTM', 'FTA', 'OR', 'DR', 'Ast', 'TO', 'Stl', 'Blk', 'PF']\n",
        "\n",
        "win_stats.columns = stat_names\n",
        "loss_stats.columns = stat_names\n",
        "\n",
        "\n",
        "tot_stats = pd.concat([win_stats,loss_stats], axis = 0, ignore_index=True)\n",
        "tot_stats = tot_stats.drop(columns = 'DayNum')\n",
        "\n",
        "## Calculate FG and 3Point %\n",
        "tot_stats['fg%'] = tot_stats['FGM']/(tot_stats['FGA'])\n",
        "tot_stats['3pt%'] = tot_stats['FGM3']/(tot_stats['FGA3'])\n",
        "\n",
        "avg_stats =tot_stats.groupby(['Season', 'TeamID']).mean()\n",
        "avg_stats = pd.DataFrame(avg_stats)\n",
        "avg_stats.reset_index(inplace=True)\n",
        "avg_stats.head(2)"
      ],
      "execution_count": 58,
      "outputs": [
        {
          "output_type": "execute_result",
          "data": {
            "text/html": [
              "<div>\n",
              "<style scoped>\n",
              "    .dataframe tbody tr th:only-of-type {\n",
              "        vertical-align: middle;\n",
              "    }\n",
              "\n",
              "    .dataframe tbody tr th {\n",
              "        vertical-align: top;\n",
              "    }\n",
              "\n",
              "    .dataframe thead th {\n",
              "        text-align: right;\n",
              "    }\n",
              "</style>\n",
              "<table border=\"1\" class=\"dataframe\">\n",
              "  <thead>\n",
              "    <tr style=\"text-align: right;\">\n",
              "      <th></th>\n",
              "      <th>Season</th>\n",
              "      <th>TeamID</th>\n",
              "      <th>Score</th>\n",
              "      <th>FGM</th>\n",
              "      <th>FGA</th>\n",
              "      <th>FGM3</th>\n",
              "      <th>FGA3</th>\n",
              "      <th>FTM</th>\n",
              "      <th>FTA</th>\n",
              "      <th>OR</th>\n",
              "      <th>DR</th>\n",
              "      <th>Ast</th>\n",
              "      <th>TO</th>\n",
              "      <th>Stl</th>\n",
              "      <th>Blk</th>\n",
              "      <th>PF</th>\n",
              "      <th>fg%</th>\n",
              "      <th>3pt%</th>\n",
              "    </tr>\n",
              "  </thead>\n",
              "  <tbody>\n",
              "    <tr>\n",
              "      <th>0</th>\n",
              "      <td>2003</td>\n",
              "      <td>1102</td>\n",
              "      <td>57.250000</td>\n",
              "      <td>19.142857</td>\n",
              "      <td>39.785714</td>\n",
              "      <td>7.821429</td>\n",
              "      <td>20.821429</td>\n",
              "      <td>11.142857</td>\n",
              "      <td>17.107143</td>\n",
              "      <td>4.178571</td>\n",
              "      <td>16.821429</td>\n",
              "      <td>13.000000</td>\n",
              "      <td>11.428571</td>\n",
              "      <td>5.964286</td>\n",
              "      <td>1.785714</td>\n",
              "      <td>18.750000</td>\n",
              "      <td>0.486149</td>\n",
              "      <td>0.367637</td>\n",
              "    </tr>\n",
              "    <tr>\n",
              "      <th>1</th>\n",
              "      <td>2003</td>\n",
              "      <td>1103</td>\n",
              "      <td>78.777778</td>\n",
              "      <td>27.148148</td>\n",
              "      <td>55.851852</td>\n",
              "      <td>5.444444</td>\n",
              "      <td>16.074074</td>\n",
              "      <td>19.037037</td>\n",
              "      <td>25.851852</td>\n",
              "      <td>9.777778</td>\n",
              "      <td>19.925926</td>\n",
              "      <td>15.222222</td>\n",
              "      <td>12.629630</td>\n",
              "      <td>7.259259</td>\n",
              "      <td>2.333333</td>\n",
              "      <td>19.851852</td>\n",
              "      <td>0.487294</td>\n",
              "      <td>0.331990</td>\n",
              "    </tr>\n",
              "  </tbody>\n",
              "</table>\n",
              "</div>"
            ],
            "text/plain": [
              "   Season  TeamID      Score  ...         PF       fg%      3pt%\n",
              "0    2003    1102  57.250000  ...  18.750000  0.486149  0.367637\n",
              "1    2003    1103  78.777778  ...  19.851852  0.487294  0.331990\n",
              "\n",
              "[2 rows x 18 columns]"
            ]
          },
          "metadata": {
            "tags": []
          },
          "execution_count": 58
        }
      ]
    },
    {
      "cell_type": "markdown",
      "metadata": {
        "id": "WdtPo68Xw2jC",
        "colab_type": "text"
      },
      "source": [
        "## Merge Detailed Stat averages into season_results"
      ]
    },
    {
      "cell_type": "code",
      "metadata": {
        "id": "2TATApdLw2jD",
        "colab_type": "code",
        "colab": {}
      },
      "source": [
        "season_stats = pd.merge(season_record, avg_stats, left_on = ['Season', 'TeamID'], right_on = ['Season', 'TeamID'], how = 'left')"
      ],
      "execution_count": 0,
      "outputs": []
    },
    {
      "cell_type": "markdown",
      "metadata": {
        "id": "dT6YqP0vSyWA",
        "colab_type": "text"
      },
      "source": [
        "## Import KenPom stats and team rankings\n",
        "\n",
        "\n",
        "*   The KenPom_data and team_rankings csv files were saved locally after using Beautiful soup to get into tabular format.\n",
        "*   To match the team names from the 3 sources (Kaggle, KenPom, and team rankings) I used difflib's get_close_matches, then manually spot checked.  The final mapping is the teams_comb_rank.xlsx.  \n",
        "\n",
        "\n",
        "\n",
        "\n",
        "\n"
      ]
    },
    {
      "cell_type": "code",
      "metadata": {
        "id": "oinxm9_rS20w",
        "colab_type": "code",
        "colab": {}
      },
      "source": [
        "kenStats = pd.read_csv('KenPom_Data.csv')\n",
        "kenStats['Team'] = kenStats['Team'].str.strip().str.replace('.','')\n",
        "kenStats = kenStats.drop(columns =['Unnamed: 0','Wins', 'Losses', 'Seed'])\n",
        "\n",
        "teamranks = pd.read_csv('team_rankings.csv')\n",
        "teamranks['Team'] = teamranks['Team'].str.strip().str.replace('.','')\n",
        "\n",
        "teamranks = teamranks.drop(columns = ['Unnamed: 0', 'v26-50', 'v51-100', 'Last'])\n",
        "teams_comb = pd.read_excel('teams_comb_addrank.xlsx', usecols='A:F')\n",
        "teams_comb['KenTeam'] = teams_comb['KenTeam'].str.strip().str.replace('.','')\n",
        "teams_comb['TeamName'] = teams_comb['TeamName'].str.strip().str.replace('.','')\n",
        "teams_comb['TeamRankings'] = teams_comb['TeamRankings'].str.strip().str.replace('.','')"
      ],
      "execution_count": 0,
      "outputs": []
    },
    {
      "cell_type": "code",
      "metadata": {
        "id": "rHISgjq7T3u4",
        "colab_type": "code",
        "colab": {}
      },
      "source": [
        "ken = pd.merge(kenStats,teams_comb[['TeamID', 'KenTeam', 'TeamRankings']], left_on = ['Team'], right_on = ['KenTeam'], how = 'left').reset_index(drop=True)"
      ],
      "execution_count": 0,
      "outputs": []
    },
    {
      "cell_type": "code",
      "metadata": {
        "id": "8ld_CXLeqSWd",
        "colab_type": "code",
        "colab": {}
      },
      "source": [
        "add_rank = pd.merge(ken, teamranks[['Rank', 'Team', 'Rating', 'Year', 'v1-25']], left_on = ['TeamRankings', 'Year'],right_on = ['Team', 'Year'], how = 'left')\n"
      ],
      "execution_count": 0,
      "outputs": []
    },
    {
      "cell_type": "code",
      "metadata": {
        "id": "1ybDFswwrCpU",
        "colab_type": "code",
        "colab": {}
      },
      "source": [
        "add_rank = add_rank.drop(columns = ['Team_x', 'KenTeam', 'TeamRankings', 'Team_y', 'Conference'])"
      ],
      "execution_count": 0,
      "outputs": []
    },
    {
      "cell_type": "code",
      "metadata": {
        "id": "YCTbyBycsSmK",
        "colab_type": "code",
        "outputId": "7f0c863b-023e-477a-bb3e-cd38bb1b94e8",
        "colab": {
          "base_uri": "https://localhost:8080/",
          "height": 128
        }
      },
      "source": [
        "add_rank=add_rank.rename(columns = {'Rank_x':'k_rank'})\n",
        "add_rank=add_rank.rename(columns = {'Rank_y':'t_rank'})\n",
        "add_rank.head(2)"
      ],
      "execution_count": 64,
      "outputs": [
        {
          "output_type": "execute_result",
          "data": {
            "text/html": [
              "<div>\n",
              "<style scoped>\n",
              "    .dataframe tbody tr th:only-of-type {\n",
              "        vertical-align: middle;\n",
              "    }\n",
              "\n",
              "    .dataframe tbody tr th {\n",
              "        vertical-align: top;\n",
              "    }\n",
              "\n",
              "    .dataframe thead th {\n",
              "        text-align: right;\n",
              "    }\n",
              "</style>\n",
              "<table border=\"1\" class=\"dataframe\">\n",
              "  <thead>\n",
              "    <tr style=\"text-align: right;\">\n",
              "      <th></th>\n",
              "      <th>Year</th>\n",
              "      <th>k_rank</th>\n",
              "      <th>Pyth</th>\n",
              "      <th>AdjustO</th>\n",
              "      <th>AdjustO Rank</th>\n",
              "      <th>AdjustD</th>\n",
              "      <th>AdjustD Rank</th>\n",
              "      <th>AdjustT</th>\n",
              "      <th>AdjustT Rank</th>\n",
              "      <th>Luck</th>\n",
              "      <th>Luck Rank</th>\n",
              "      <th>SOS Pyth</th>\n",
              "      <th>SOS Pyth Rank</th>\n",
              "      <th>SOS OppO</th>\n",
              "      <th>SOS OppO Rank</th>\n",
              "      <th>SOS OppD</th>\n",
              "      <th>SOS OppD Rank</th>\n",
              "      <th>NCSOS Pyth</th>\n",
              "      <th>NCSOS Pyth Rank</th>\n",
              "      <th>TeamID</th>\n",
              "      <th>t_rank</th>\n",
              "      <th>Rating</th>\n",
              "      <th>v1-25</th>\n",
              "    </tr>\n",
              "  </thead>\n",
              "  <tbody>\n",
              "    <tr>\n",
              "      <th>0</th>\n",
              "      <td>2002</td>\n",
              "      <td>1</td>\n",
              "      <td>34.19</td>\n",
              "      <td>121.0</td>\n",
              "      <td>1</td>\n",
              "      <td>86.8</td>\n",
              "      <td>1</td>\n",
              "      <td>74.5</td>\n",
              "      <td>8</td>\n",
              "      <td>-0.027</td>\n",
              "      <td>223</td>\n",
              "      <td>9.87</td>\n",
              "      <td>18</td>\n",
              "      <td>109.1</td>\n",
              "      <td>13</td>\n",
              "      <td>99.2</td>\n",
              "      <td>31</td>\n",
              "      <td>6.66</td>\n",
              "      <td>34</td>\n",
              "      <td>1181.0</td>\n",
              "      <td>NaN</td>\n",
              "      <td>NaN</td>\n",
              "      <td>NaN</td>\n",
              "    </tr>\n",
              "    <tr>\n",
              "      <th>1</th>\n",
              "      <td>2002</td>\n",
              "      <td>2</td>\n",
              "      <td>30.19</td>\n",
              "      <td>118.1</td>\n",
              "      <td>7</td>\n",
              "      <td>87.9</td>\n",
              "      <td>3</td>\n",
              "      <td>67.4</td>\n",
              "      <td>194</td>\n",
              "      <td>0.002</td>\n",
              "      <td>165</td>\n",
              "      <td>6.58</td>\n",
              "      <td>57</td>\n",
              "      <td>106.3</td>\n",
              "      <td>66</td>\n",
              "      <td>99.7</td>\n",
              "      <td>42</td>\n",
              "      <td>3.48</td>\n",
              "      <td>80</td>\n",
              "      <td>1153.0</td>\n",
              "      <td>NaN</td>\n",
              "      <td>NaN</td>\n",
              "      <td>NaN</td>\n",
              "    </tr>\n",
              "  </tbody>\n",
              "</table>\n",
              "</div>"
            ],
            "text/plain": [
              "   Year  k_rank   Pyth  AdjustO  ...  TeamID  t_rank  Rating  v1-25\n",
              "0  2002       1  34.19    121.0  ...  1181.0     NaN     NaN    NaN\n",
              "1  2002       2  30.19    118.1  ...  1153.0     NaN     NaN    NaN\n",
              "\n",
              "[2 rows x 23 columns]"
            ]
          },
          "metadata": {
            "tags": []
          },
          "execution_count": 64
        }
      ]
    },
    {
      "cell_type": "markdown",
      "metadata": {
        "id": "YlSttSTkw2jI",
        "colab_type": "text"
      },
      "source": [
        "### Add Season Stats for both teams to tourney_results"
      ]
    },
    {
      "cell_type": "code",
      "metadata": {
        "id": "JLRNKb2vw2jI",
        "colab_type": "code",
        "colab": {}
      },
      "source": [
        "t1 = pd.merge(tourney_result, season_stats, left_on = ['Season', 'team_x'], right_on = ['Season', 'TeamID'], how='left')\n",
        "t1 = pd.merge(t1, season_stats, left_on = ['Season', 'team_y'], right_on = ['Season', 'TeamID'], how='left')\n",
        "t1 = t1[t1['Season']>2002]\n"
      ],
      "execution_count": 0,
      "outputs": []
    },
    {
      "cell_type": "code",
      "metadata": {
        "id": "jpwMq4XwaICa",
        "colab_type": "code",
        "colab": {}
      },
      "source": [
        "t2 = pd.merge(t1,add_rank, left_on = ['team_x', 'Season'], right_on = ['TeamID', 'Year'], how = 'left')\n",
        "t2 = pd.merge(t2,add_rank, left_on = ['team_y', 'Season'], right_on = ['TeamID', 'Year'], how = 'left')\n",
        "t2 = t2.drop(columns = ['TeamID_x', 'TeamID_y', 'Year_x', 'Year_y'])\n"
      ],
      "execution_count": 0,
      "outputs": []
    },
    {
      "cell_type": "code",
      "metadata": {
        "id": "7IusmWh2thH5",
        "colab_type": "code",
        "colab": {}
      },
      "source": [
        "t2 = t2[t2['Season']>2006] #team ranking only avail after 2006"
      ],
      "execution_count": 0,
      "outputs": []
    },
    {
      "cell_type": "code",
      "metadata": {
        "id": "6uEpm4Dow2jL",
        "colab_type": "code",
        "colab": {}
      },
      "source": [
        "#for cols in t2.columns:\n",
        " # if t2[cols].isna().sum() > 0:\n",
        "  #  print(t2[cols].isna().sum(), cols)"
      ],
      "execution_count": 0,
      "outputs": []
    },
    {
      "cell_type": "code",
      "metadata": {
        "id": "dX9EFxKAuOr8",
        "colab_type": "code",
        "colab": {}
      },
      "source": [
        "for cols in t2.columns:\n",
        "  if cols[-1] == 'x':\n",
        "    t2[cols] = t2[cols].fillna(t2.groupby(['Season' ])[cols].transform('mean'))\n",
        "  if cols[-1] == 'y':\n",
        "    t2[cols] = t2[cols].fillna(t2.groupby(['Season'])[cols].transform('mean'))"
      ],
      "execution_count": 0,
      "outputs": []
    },
    {
      "cell_type": "markdown",
      "metadata": {
        "id": "rwFeSyUqFUMg",
        "colab_type": "text"
      },
      "source": [
        "## Prepare Training Set\n"
      ]
    },
    {
      "cell_type": "code",
      "metadata": {
        "id": "igJqMjJXw2ji",
        "colab_type": "code",
        "colab": {}
      },
      "source": [
        "team_cols = t2.columns\n",
        "drop_cols = team_cols.drop(['Season','team_x', 'team_y', 'result']) # save for later to drop\n",
        "drop_cols; #will drop after doing comparison calculations"
      ],
      "execution_count": 0,
      "outputs": []
    },
    {
      "cell_type": "code",
      "metadata": {
        "id": "08BPW2ZHw2jm",
        "colab_type": "code",
        "colab": {}
      },
      "source": [
        "cols = t2.columns\n",
        "c1 =[]\n",
        "for c in cols:\n",
        "    if c.find('x')>0 and c.find('team')<0:\n",
        "        c1.append(c)"
      ],
      "execution_count": 0,
      "outputs": []
    },
    {
      "cell_type": "code",
      "metadata": {
        "id": "SFjuyxJQN-QY",
        "colab_type": "code",
        "colab": {}
      },
      "source": [
        "scaler = StandardScaler()\n",
        "t2[drop_cols] = scaler.fit_transform(t2[drop_cols])"
      ],
      "execution_count": 0,
      "outputs": []
    },
    {
      "cell_type": "code",
      "metadata": {
        "scrolled": false,
        "id": "sBFB_nBdw2jt",
        "colab_type": "code",
        "colab": {}
      },
      "source": [
        "for col in c1:\n",
        "    s = col.split('_')[0]\n",
        "    name = s+'_diff'\n",
        "    t = col.replace('x','y')\n",
        "    #print(name, col,t)\n",
        "    t2[name] = t2[col]-t2[t]\n",
        "\n",
        "    name1 = s+'_ratio'\n",
        "    t2[name1] = t2[col]/t2[t]\n",
        "    "
      ],
      "execution_count": 0,
      "outputs": []
    },
    {
      "cell_type": "code",
      "metadata": {
        "id": "YQBsJxx2w2jw",
        "colab_type": "code",
        "colab": {}
      },
      "source": [
        "t2 = t2.drop(columns = drop_cols)"
      ],
      "execution_count": 0,
      "outputs": []
    },
    {
      "cell_type": "code",
      "metadata": {
        "id": "RXWTr4Kaw2kB",
        "colab_type": "code",
        "outputId": "2ebb327c-410d-44ba-81d7-5162f0594f19",
        "colab": {
          "base_uri": "https://localhost:8080/",
          "height": 194
        }
      },
      "source": [
        "train_set = t2.copy()\n",
        "train_set.head(2)"
      ],
      "execution_count": 75,
      "outputs": [
        {
          "output_type": "execute_result",
          "data": {
            "text/html": [
              "<div>\n",
              "<style scoped>\n",
              "    .dataframe tbody tr th:only-of-type {\n",
              "        vertical-align: middle;\n",
              "    }\n",
              "\n",
              "    .dataframe tbody tr th {\n",
              "        vertical-align: top;\n",
              "    }\n",
              "\n",
              "    .dataframe thead th {\n",
              "        text-align: right;\n",
              "    }\n",
              "</style>\n",
              "<table border=\"1\" class=\"dataframe\">\n",
              "  <thead>\n",
              "    <tr style=\"text-align: right;\">\n",
              "      <th></th>\n",
              "      <th>Season</th>\n",
              "      <th>team_x</th>\n",
              "      <th>team_y</th>\n",
              "      <th>result</th>\n",
              "      <th>seed_diff</th>\n",
              "      <th>seed_ratio</th>\n",
              "      <th>win_diff</th>\n",
              "      <th>win_ratio</th>\n",
              "      <th>ptsFor_diff</th>\n",
              "      <th>ptsFor_ratio</th>\n",
              "      <th>ptsAgainst_diff</th>\n",
              "      <th>ptsAgainst_ratio</th>\n",
              "      <th>Score_diff</th>\n",
              "      <th>Score_ratio</th>\n",
              "      <th>FGM_diff</th>\n",
              "      <th>FGM_ratio</th>\n",
              "      <th>FGA_diff</th>\n",
              "      <th>FGA_ratio</th>\n",
              "      <th>FGM3_diff</th>\n",
              "      <th>FGM3_ratio</th>\n",
              "      <th>FGA3_diff</th>\n",
              "      <th>FGA3_ratio</th>\n",
              "      <th>FTM_diff</th>\n",
              "      <th>FTM_ratio</th>\n",
              "      <th>FTA_diff</th>\n",
              "      <th>FTA_ratio</th>\n",
              "      <th>OR_diff</th>\n",
              "      <th>OR_ratio</th>\n",
              "      <th>DR_diff</th>\n",
              "      <th>DR_ratio</th>\n",
              "      <th>Ast_diff</th>\n",
              "      <th>Ast_ratio</th>\n",
              "      <th>TO_diff</th>\n",
              "      <th>TO_ratio</th>\n",
              "      <th>Stl_diff</th>\n",
              "      <th>Stl_ratio</th>\n",
              "      <th>Blk_diff</th>\n",
              "      <th>Blk_ratio</th>\n",
              "      <th>PF_diff</th>\n",
              "      <th>PF_ratio</th>\n",
              "      <th>...</th>\n",
              "      <th>Pyth_diff</th>\n",
              "      <th>Pyth_ratio</th>\n",
              "      <th>AdjustO_diff</th>\n",
              "      <th>AdjustO_ratio</th>\n",
              "      <th>AdjustO Rank_diff</th>\n",
              "      <th>AdjustO Rank_ratio</th>\n",
              "      <th>AdjustD_diff</th>\n",
              "      <th>AdjustD_ratio</th>\n",
              "      <th>AdjustD Rank_diff</th>\n",
              "      <th>AdjustD Rank_ratio</th>\n",
              "      <th>AdjustT_diff</th>\n",
              "      <th>AdjustT_ratio</th>\n",
              "      <th>AdjustT Rank_diff</th>\n",
              "      <th>AdjustT Rank_ratio</th>\n",
              "      <th>Luck_diff</th>\n",
              "      <th>Luck_ratio</th>\n",
              "      <th>Luck Rank_diff</th>\n",
              "      <th>Luck Rank_ratio</th>\n",
              "      <th>SOS Pyth_diff</th>\n",
              "      <th>SOS Pyth_ratio</th>\n",
              "      <th>SOS Pyth Rank_diff</th>\n",
              "      <th>SOS Pyth Rank_ratio</th>\n",
              "      <th>SOS OppO_diff</th>\n",
              "      <th>SOS OppO_ratio</th>\n",
              "      <th>SOS OppO Rank_diff</th>\n",
              "      <th>SOS OppO Rank_ratio</th>\n",
              "      <th>SOS OppD_diff</th>\n",
              "      <th>SOS OppD_ratio</th>\n",
              "      <th>SOS OppD Rank_diff</th>\n",
              "      <th>SOS OppD Rank_ratio</th>\n",
              "      <th>NCSOS Pyth_diff</th>\n",
              "      <th>NCSOS Pyth_ratio</th>\n",
              "      <th>NCSOS Pyth Rank_diff</th>\n",
              "      <th>NCSOS Pyth Rank_ratio</th>\n",
              "      <th>t_diff</th>\n",
              "      <th>t_ratio</th>\n",
              "      <th>Rating_diff</th>\n",
              "      <th>Rating_ratio</th>\n",
              "      <th>v1-25_diff</th>\n",
              "      <th>v1-25_ratio</th>\n",
              "    </tr>\n",
              "  </thead>\n",
              "  <tbody>\n",
              "    <tr>\n",
              "      <th>256</th>\n",
              "      <td>2007</td>\n",
              "      <td>1197</td>\n",
              "      <td>1310</td>\n",
              "      <td>0</td>\n",
              "      <td>-0.136778</td>\n",
              "      <td>0.930390</td>\n",
              "      <td>-0.726096</td>\n",
              "      <td>1.827863</td>\n",
              "      <td>-1.443368</td>\n",
              "      <td>-3.133656</td>\n",
              "      <td>-0.727881</td>\n",
              "      <td>0.579033</td>\n",
              "      <td>-1.443368</td>\n",
              "      <td>-3.133656</td>\n",
              "      <td>-0.991944</td>\n",
              "      <td>4.855190</td>\n",
              "      <td>-2.237676</td>\n",
              "      <td>-1.088053</td>\n",
              "      <td>-1.721003</td>\n",
              "      <td>-1.187685</td>\n",
              "      <td>-2.180142</td>\n",
              "      <td>-0.917567</td>\n",
              "      <td>-0.539664</td>\n",
              "      <td>0.421810</td>\n",
              "      <td>0.351143</td>\n",
              "      <td>1.541811</td>\n",
              "      <td>-1.055509</td>\n",
              "      <td>0.396750</td>\n",
              "      <td>0.180911</td>\n",
              "      <td>0.792367</td>\n",
              "      <td>-0.106347</td>\n",
              "      <td>1.221005</td>\n",
              "      <td>2.720503</td>\n",
              "      <td>4.585244</td>\n",
              "      <td>0.218129</td>\n",
              "      <td>0.430189</td>\n",
              "      <td>0.307290</td>\n",
              "      <td>0.860659</td>\n",
              "      <td>0.307841</td>\n",
              "      <td>-3.798378</td>\n",
              "      <td>...</td>\n",
              "      <td>-0.504697</td>\n",
              "      <td>1.202203</td>\n",
              "      <td>-1.090396</td>\n",
              "      <td>1.970836</td>\n",
              "      <td>1.624944</td>\n",
              "      <td>2.352279</td>\n",
              "      <td>-0.328135</td>\n",
              "      <td>0.892298</td>\n",
              "      <td>-0.543265</td>\n",
              "      <td>0.866882</td>\n",
              "      <td>-0.285597</td>\n",
              "      <td>0.631456</td>\n",
              "      <td>0.318573</td>\n",
              "      <td>0.703563</td>\n",
              "      <td>-0.300795</td>\n",
              "      <td>0.868740</td>\n",
              "      <td>0.049383</td>\n",
              "      <td>0.96815</td>\n",
              "      <td>-0.532712</td>\n",
              "      <td>1.224773</td>\n",
              "      <td>0.285309</td>\n",
              "      <td>1.11262</td>\n",
              "      <td>-0.928128</td>\n",
              "      <td>1.467426</td>\n",
              "      <td>0.436255</td>\n",
              "      <td>1.183740</td>\n",
              "      <td>-0.024754</td>\n",
              "      <td>0.989847</td>\n",
              "      <td>0.210772</td>\n",
              "      <td>1.085063</td>\n",
              "      <td>3.735510</td>\n",
              "      <td>-1.578943</td>\n",
              "      <td>-3.018361</td>\n",
              "      <td>-1.000556</td>\n",
              "      <td>2.984941</td>\n",
              "      <td>3.087990</td>\n",
              "      <td>-1.529067</td>\n",
              "      <td>3.278480</td>\n",
              "      <td>0.058242</td>\n",
              "      <td>0.941802</td>\n",
              "    </tr>\n",
              "    <tr>\n",
              "      <th>257</th>\n",
              "      <td>2007</td>\n",
              "      <td>1130</td>\n",
              "      <td>1403</td>\n",
              "      <td>1</td>\n",
              "      <td>-0.723954</td>\n",
              "      <td>-0.071487</td>\n",
              "      <td>0.197802</td>\n",
              "      <td>0.833194</td>\n",
              "      <td>0.497614</td>\n",
              "      <td>0.041946</td>\n",
              "      <td>0.195140</td>\n",
              "      <td>1.277021</td>\n",
              "      <td>0.497614</td>\n",
              "      <td>0.041946</td>\n",
              "      <td>0.360717</td>\n",
              "      <td>0.499738</td>\n",
              "      <td>-0.316322</td>\n",
              "      <td>1.439870</td>\n",
              "      <td>-0.254225</td>\n",
              "      <td>1.400775</td>\n",
              "      <td>0.599951</td>\n",
              "      <td>0.574912</td>\n",
              "      <td>0.726819</td>\n",
              "      <td>2.196629</td>\n",
              "      <td>0.877373</td>\n",
              "      <td>4.226176</td>\n",
              "      <td>1.388107</td>\n",
              "      <td>-0.241405</td>\n",
              "      <td>0.851685</td>\n",
              "      <td>0.576924</td>\n",
              "      <td>0.759554</td>\n",
              "      <td>-0.278848</td>\n",
              "      <td>1.405686</td>\n",
              "      <td>-5.535807</td>\n",
              "      <td>-0.944277</td>\n",
              "      <td>-11.826336</td>\n",
              "      <td>3.243349</td>\n",
              "      <td>-0.676060</td>\n",
              "      <td>-1.255131</td>\n",
              "      <td>79.513923</td>\n",
              "      <td>...</td>\n",
              "      <td>0.691821</td>\n",
              "      <td>0.234773</td>\n",
              "      <td>0.873374</td>\n",
              "      <td>-2.310854</td>\n",
              "      <td>-0.747764</td>\n",
              "      <td>-5.688798</td>\n",
              "      <td>-0.256039</td>\n",
              "      <td>0.800745</td>\n",
              "      <td>-0.316270</td>\n",
              "      <td>0.719404</td>\n",
              "      <td>-0.294282</td>\n",
              "      <td>2.022642</td>\n",
              "      <td>0.295232</td>\n",
              "      <td>2.210947</td>\n",
              "      <td>-0.652035</td>\n",
              "      <td>0.245207</td>\n",
              "      <td>0.768949</td>\n",
              "      <td>0.26723</td>\n",
              "      <td>0.531884</td>\n",
              "      <td>3.031471</td>\n",
              "      <td>-0.467685</td>\n",
              "      <td>2.61996</td>\n",
              "      <td>0.826776</td>\n",
              "      <td>3.562953</td>\n",
              "      <td>-0.565282</td>\n",
              "      <td>3.055502</td>\n",
              "      <td>-0.093813</td>\n",
              "      <td>1.593451</td>\n",
              "      <td>-0.133657</td>\n",
              "      <td>1.397298</td>\n",
              "      <td>-1.127108</td>\n",
              "      <td>-1.588607</td>\n",
              "      <td>1.255734</td>\n",
              "      <td>-1.034111</td>\n",
              "      <td>0.264809</td>\n",
              "      <td>2.050543</td>\n",
              "      <td>-0.300319</td>\n",
              "      <td>-1.147425</td>\n",
              "      <td>-1.892203</td>\n",
              "      <td>-0.992446</td>\n",
              "    </tr>\n",
              "  </tbody>\n",
              "</table>\n",
              "<p>2 rows × 86 columns</p>\n",
              "</div>"
            ],
            "text/plain": [
              "     Season  team_x  team_y  ...  Rating_ratio  v1-25_diff  v1-25_ratio\n",
              "256    2007    1197    1310  ...      3.278480    0.058242     0.941802\n",
              "257    2007    1130    1403  ...     -1.147425   -1.892203    -0.992446\n",
              "\n",
              "[2 rows x 86 columns]"
            ]
          },
          "metadata": {
            "tags": []
          },
          "execution_count": 75
        }
      ]
    },
    {
      "cell_type": "code",
      "metadata": {
        "id": "VawewRWrw2kE",
        "colab_type": "code",
        "colab": {}
      },
      "source": [
        "#check for any missing values\n",
        "for cols in train_set.columns:\n",
        "    if train_set[cols].isna().sum() > 0:\n",
        "        print(train_set[cols].isna().sum(), cols)"
      ],
      "execution_count": 0,
      "outputs": []
    },
    {
      "cell_type": "markdown",
      "metadata": {
        "id": "oldM6XfQFdeN",
        "colab_type": "text"
      },
      "source": [
        "### Define Training and Testing Windows\n",
        "##### Train on seasons before selected season, test on selected season\n"
      ]
    },
    {
      "cell_type": "code",
      "metadata": {
        "id": "jj5qtNnKw2kJ",
        "colab_type": "code",
        "colab": {}
      },
      "source": [
        "def train_test_window_fit(model, df, season,start_window):\n",
        "    r = [x for x in range(start_window, season)]\n",
        "    train = df[df['Season'].isin(r)]\n",
        "    train_y = train['result']\n",
        "    test = df[df['Season']==season]\n",
        "    test_y = test['result']\n",
        "    train = train.drop(columns = ['Season', 'team_x', 'team_y','result'])\n",
        "    test = test.drop(columns = ['Season', 'team_x', 'team_y','result'])\n",
        "    model.fit(train, train_y)\n",
        "    #print(train.columns)\n",
        "    pr = model.predict_proba(test)[:,1]\n",
        "    p = model.predict(test)\n",
        "    print(str(season),'Log_loss',round(log_loss(test_y, pr),4),'Acc:',round(accuracy_score(test_y, p),4))\n",
        "    \n",
        "    \n",
        "    #return train, train_y, test, test_y"
      ],
      "execution_count": 0,
      "outputs": []
    },
    {
      "cell_type": "markdown",
      "metadata": {
        "id": "eshNODLlFnjl",
        "colab_type": "text"
      },
      "source": [
        "## Test Models"
      ]
    },
    {
      "cell_type": "code",
      "metadata": {
        "id": "QDB5_oEZw2kL",
        "colab_type": "code",
        "outputId": "4d375ef9-2f75-415b-e193-2b0c2b399590",
        "colab": {
          "base_uri": "https://localhost:8080/",
          "height": 102
        }
      },
      "source": [
        "#Logistic Regression\n",
        "LR = LogisticRegression(C=1,max_iter = 1E6,penalty='l2')\n",
        "seasons = [2015,2016,2017,2018,2019]\n",
        "for s in seasons:\n",
        "    train_test_window_fit(LR, train_set, s, 2007)"
      ],
      "execution_count": 92,
      "outputs": [
        {
          "output_type": "stream",
          "text": [
            "2015 Log_loss 0.8845 Acc: 0.7612\n",
            "2016 Log_loss 0.4389 Acc: 0.8209\n",
            "2017 Log_loss 0.363 Acc: 0.806\n",
            "2018 Log_loss 0.5233 Acc: 0.7463\n",
            "2019 Log_loss 0.4523 Acc: 0.8358\n"
          ],
          "name": "stdout"
        }
      ]
    },
    {
      "cell_type": "code",
      "metadata": {
        "id": "ChftIwiPPN3H",
        "colab_type": "code",
        "colab": {}
      },
      "source": [
        "train_cols = train_set.columns[4:]\n",
        "\n",
        "LR_coefs =  pd.DataFrame({'Variable':list(train_cols), 'Coef':list(LR.coef_[0])}).sort_values(by = 'Coef', ascending = False)"
      ],
      "execution_count": 0,
      "outputs": []
    },
    {
      "cell_type": "code",
      "metadata": {
        "id": "H6uvVk2ceN4s",
        "colab_type": "code",
        "colab": {
          "base_uri": "https://localhost:8080/",
          "height": 542
        },
        "outputId": "253ddada-d1aa-4938-ede8-9d7c0cb9ac2a"
      },
      "source": [
        "px.bar(LR_coefs, x = 'Variable', y = 'Coef')"
      ],
      "execution_count": 88,
      "outputs": [
        {
          "output_type": "display_data",
          "data": {
            "text/html": [
              "<html>\n",
              "<head><meta charset=\"utf-8\" /></head>\n",
              "<body>\n",
              "    <div>\n",
              "            <script src=\"https://cdnjs.cloudflare.com/ajax/libs/mathjax/2.7.5/MathJax.js?config=TeX-AMS-MML_SVG\"></script><script type=\"text/javascript\">if (window.MathJax) {MathJax.Hub.Config({SVG: {font: \"STIX-Web\"}});}</script>\n",
              "                <script type=\"text/javascript\">window.PlotlyConfig = {MathJaxConfig: 'local'};</script>\n",
              "        <script src=\"https://cdn.plot.ly/plotly-latest.min.js\"></script>    \n",
              "            <div id=\"1889c204-957c-44aa-b859-9238285d0b67\" class=\"plotly-graph-div\" style=\"height:525px; width:100%;\"></div>\n",
              "            <script type=\"text/javascript\">\n",
              "                \n",
              "                    window.PLOTLYENV=window.PLOTLYENV || {};\n",
              "                    \n",
              "                if (document.getElementById(\"1889c204-957c-44aa-b859-9238285d0b67\")) {\n",
              "                    Plotly.newPlot(\n",
              "                        '1889c204-957c-44aa-b859-9238285d0b67',\n",
              "                        [{\"alignmentgroup\": \"True\", \"hoverlabel\": {\"namelength\": 0}, \"hovertemplate\": \"Variable=%{x}<br>Coef=%{y}\", \"legendgroup\": \"\", \"marker\": {\"color\": \"#636efa\"}, \"name\": \"\", \"offsetgroup\": \"\", \"orientation\": \"v\", \"showlegend\": false, \"textposition\": \"auto\", \"type\": \"bar\", \"x\": [\"Pyth_diff\", \"AdjustO_diff\", \"Luck_diff\", \"seed_diff\", \"SOS OppO Rank_diff\", \"ptsAgainst_diff\", \"SOS Pyth Rank_diff\", \"AdjustO Rank_diff\", \"AdjustT_diff\", \"AdjustT Rank_diff\", \"SOS OppD_diff\", \"Rating_diff\", \"FGA_diff\", \"TO_diff\", \"FTA_diff\", \"SOS OppO_diff\", \"FGA3_diff\", \"t_diff\", \"SOS OppD Rank_diff\", \"SOS OppD_ratio\", \"Blk_diff\", \"SOS OppD Rank_ratio\", \"SOS OppO Rank_ratio\", \"DR_ratio\", \"AdjustD Rank_ratio\", \"Ast_ratio\", \"AdjustT Rank_ratio\", \"fg%_ratio\", \"SOS OppO_ratio\", \"TO_ratio\", \"Rating_ratio\", \"SOS Pyth Rank_ratio\", \"win_ratio\", \"PF_diff\", \"t_ratio\", \"FTM_ratio\", \"FGM_ratio\", \"PF_ratio\", \"AdjustO_ratio\", \"Luck Rank_ratio\", \"Stl_ratio\", \"FTA_ratio\", \"NCSOS Pyth Rank_ratio\", \"NCSOS Pyth_ratio\", \"k_ratio\", \"FGA3_ratio\", \"ptsAgainst_ratio\", \"FGM3_ratio\", \"ptsFor_ratio\", \"Score_ratio\", \"AdjustT_ratio\", \"3pt%_ratio\", \"OR_ratio\", \"v1-25_ratio\", \"Luck_ratio\", \"AdjustO Rank_ratio\", \"seed_ratio\", \"FGA_ratio\", \"AdjustD_ratio\", \"Blk_ratio\", \"FGM3_diff\", \"FGM_diff\", \"Pyth_ratio\", \"SOS Pyth_ratio\", \"NCSOS Pyth_diff\", \"fg%_diff\", \"Score_diff\", \"ptsFor_diff\", \"Luck Rank_diff\", \"k_diff\", \"Stl_diff\", \"3pt%_diff\", \"NCSOS Pyth Rank_diff\", \"OR_diff\", \"SOS Pyth_diff\", \"DR_diff\", \"v1-25_diff\", \"Ast_diff\", \"FTM_diff\", \"AdjustD Rank_diff\", \"AdjustD_diff\", \"win_diff\"], \"xaxis\": \"x\", \"y\": [2.5332559858136916, 2.288977164701023, 1.3276791624107867, 0.8977416368880973, 0.6799448443052252, 0.49833208823359426, 0.453984518507576, 0.3579397312697313, 0.30577585840325006, 0.2341217070558568, 0.23149634256662124, 0.22312509255683063, 0.21438989791953517, 0.19609749911468743, 0.1950604566537965, 0.0930901490092906, 0.08695747224054491, 0.05850369358024488, 0.055504177737600476, 0.041996937241523244, 0.03999674784807037, 0.028365212102856793, 0.02512601580428044, 0.018183129498858582, 0.018060261558206742, 0.016896467171014996, 0.015114678076932644, 0.01207706283503853, 0.011828532784197215, 0.011120914131484295, 0.009982341403166528, 0.008559832280688138, 0.008551290708927243, 0.005911500972257615, 0.0046878890889790826, 0.0036559953679334866, 0.0034308018604886628, 0.0014684136104465666, 0.0009563539200114633, 0.0007425525400269901, 0.00021746863802316892, 7.624092007947759e-05, -0.00015224413523907623, -0.00026774367729488595, -0.00031069855125600274, -0.0007262384136530538, -0.0019333172993921302, -0.0019856843145346914, -0.0026163058187166337, -0.0026163058187166337, -0.0028610914887275767, -0.0031775702689023438, -0.005827141630411735, -0.00643913564495649, -0.006616852998938419, -0.00786072386309086, -0.008157068958555114, -0.008717871793895304, -0.011200893909999052, -0.011549435556772283, -0.01834611519081053, -0.023769560303614913, -0.029598508172696304, -0.0314709090459197, -0.03572343416005876, -0.05513998825463197, -0.060658617438168784, -0.060658617438168784, -0.08350298559806828, -0.0842399345582648, -0.10595895855279389, -0.10927658678228637, -0.11666974931901422, -0.12887462084474577, -0.18586616049397478, -0.2132575954827966, -0.21813456455090163, -0.3332479873416173, -0.3580005431709245, -0.6689815673591245, -1.4316165484022307, -1.4876738734269708], \"yaxis\": \"y\"}],\n",
              "                        {\"barmode\": \"relative\", \"legend\": {\"tracegroupgap\": 0}, \"margin\": {\"t\": 60}, \"template\": {\"data\": {\"bar\": [{\"error_x\": {\"color\": \"#2a3f5f\"}, \"error_y\": {\"color\": \"#2a3f5f\"}, \"marker\": {\"line\": {\"color\": \"#E5ECF6\", \"width\": 0.5}}, \"type\": \"bar\"}], \"barpolar\": [{\"marker\": {\"line\": {\"color\": \"#E5ECF6\", \"width\": 0.5}}, \"type\": \"barpolar\"}], \"carpet\": [{\"aaxis\": {\"endlinecolor\": \"#2a3f5f\", \"gridcolor\": \"white\", \"linecolor\": \"white\", \"minorgridcolor\": \"white\", \"startlinecolor\": \"#2a3f5f\"}, \"baxis\": {\"endlinecolor\": \"#2a3f5f\", \"gridcolor\": \"white\", \"linecolor\": \"white\", \"minorgridcolor\": \"white\", \"startlinecolor\": \"#2a3f5f\"}, \"type\": \"carpet\"}], \"choropleth\": [{\"colorbar\": {\"outlinewidth\": 0, \"ticks\": \"\"}, \"type\": \"choropleth\"}], \"contour\": [{\"colorbar\": {\"outlinewidth\": 0, \"ticks\": \"\"}, \"colorscale\": [[0.0, \"#0d0887\"], [0.1111111111111111, \"#46039f\"], [0.2222222222222222, \"#7201a8\"], [0.3333333333333333, \"#9c179e\"], [0.4444444444444444, \"#bd3786\"], [0.5555555555555556, \"#d8576b\"], [0.6666666666666666, \"#ed7953\"], [0.7777777777777778, \"#fb9f3a\"], [0.8888888888888888, \"#fdca26\"], [1.0, \"#f0f921\"]], \"type\": \"contour\"}], \"contourcarpet\": [{\"colorbar\": {\"outlinewidth\": 0, \"ticks\": \"\"}, \"type\": \"contourcarpet\"}], \"heatmap\": [{\"colorbar\": {\"outlinewidth\": 0, \"ticks\": \"\"}, \"colorscale\": [[0.0, \"#0d0887\"], [0.1111111111111111, \"#46039f\"], [0.2222222222222222, \"#7201a8\"], [0.3333333333333333, \"#9c179e\"], [0.4444444444444444, \"#bd3786\"], [0.5555555555555556, \"#d8576b\"], [0.6666666666666666, \"#ed7953\"], [0.7777777777777778, \"#fb9f3a\"], [0.8888888888888888, \"#fdca26\"], [1.0, \"#f0f921\"]], \"type\": \"heatmap\"}], \"heatmapgl\": [{\"colorbar\": {\"outlinewidth\": 0, \"ticks\": \"\"}, \"colorscale\": [[0.0, \"#0d0887\"], [0.1111111111111111, \"#46039f\"], [0.2222222222222222, \"#7201a8\"], [0.3333333333333333, \"#9c179e\"], [0.4444444444444444, \"#bd3786\"], [0.5555555555555556, \"#d8576b\"], [0.6666666666666666, \"#ed7953\"], [0.7777777777777778, \"#fb9f3a\"], [0.8888888888888888, \"#fdca26\"], [1.0, \"#f0f921\"]], \"type\": \"heatmapgl\"}], \"histogram\": [{\"marker\": {\"colorbar\": {\"outlinewidth\": 0, \"ticks\": \"\"}}, \"type\": \"histogram\"}], \"histogram2d\": [{\"colorbar\": {\"outlinewidth\": 0, \"ticks\": \"\"}, \"colorscale\": [[0.0, \"#0d0887\"], [0.1111111111111111, \"#46039f\"], [0.2222222222222222, \"#7201a8\"], [0.3333333333333333, \"#9c179e\"], [0.4444444444444444, \"#bd3786\"], [0.5555555555555556, \"#d8576b\"], [0.6666666666666666, \"#ed7953\"], [0.7777777777777778, \"#fb9f3a\"], [0.8888888888888888, \"#fdca26\"], [1.0, \"#f0f921\"]], \"type\": \"histogram2d\"}], \"histogram2dcontour\": [{\"colorbar\": {\"outlinewidth\": 0, \"ticks\": \"\"}, \"colorscale\": [[0.0, \"#0d0887\"], [0.1111111111111111, \"#46039f\"], [0.2222222222222222, \"#7201a8\"], [0.3333333333333333, \"#9c179e\"], [0.4444444444444444, \"#bd3786\"], [0.5555555555555556, \"#d8576b\"], [0.6666666666666666, \"#ed7953\"], [0.7777777777777778, \"#fb9f3a\"], [0.8888888888888888, \"#fdca26\"], [1.0, \"#f0f921\"]], \"type\": \"histogram2dcontour\"}], \"mesh3d\": [{\"colorbar\": {\"outlinewidth\": 0, \"ticks\": \"\"}, \"type\": \"mesh3d\"}], \"parcoords\": [{\"line\": {\"colorbar\": {\"outlinewidth\": 0, \"ticks\": \"\"}}, \"type\": \"parcoords\"}], \"pie\": [{\"automargin\": true, \"type\": \"pie\"}], \"scatter\": [{\"marker\": {\"colorbar\": {\"outlinewidth\": 0, \"ticks\": \"\"}}, \"type\": \"scatter\"}], \"scatter3d\": [{\"line\": {\"colorbar\": {\"outlinewidth\": 0, \"ticks\": \"\"}}, \"marker\": {\"colorbar\": {\"outlinewidth\": 0, \"ticks\": \"\"}}, \"type\": \"scatter3d\"}], \"scattercarpet\": [{\"marker\": {\"colorbar\": {\"outlinewidth\": 0, \"ticks\": \"\"}}, \"type\": \"scattercarpet\"}], \"scattergeo\": [{\"marker\": {\"colorbar\": {\"outlinewidth\": 0, \"ticks\": \"\"}}, \"type\": \"scattergeo\"}], \"scattergl\": [{\"marker\": {\"colorbar\": {\"outlinewidth\": 0, \"ticks\": \"\"}}, \"type\": \"scattergl\"}], \"scattermapbox\": [{\"marker\": {\"colorbar\": {\"outlinewidth\": 0, \"ticks\": \"\"}}, \"type\": \"scattermapbox\"}], \"scatterpolar\": [{\"marker\": {\"colorbar\": {\"outlinewidth\": 0, \"ticks\": \"\"}}, \"type\": \"scatterpolar\"}], \"scatterpolargl\": [{\"marker\": {\"colorbar\": {\"outlinewidth\": 0, \"ticks\": \"\"}}, \"type\": \"scatterpolargl\"}], \"scatterternary\": [{\"marker\": {\"colorbar\": {\"outlinewidth\": 0, \"ticks\": \"\"}}, \"type\": \"scatterternary\"}], \"surface\": [{\"colorbar\": {\"outlinewidth\": 0, \"ticks\": \"\"}, \"colorscale\": [[0.0, \"#0d0887\"], [0.1111111111111111, \"#46039f\"], [0.2222222222222222, \"#7201a8\"], [0.3333333333333333, \"#9c179e\"], [0.4444444444444444, \"#bd3786\"], [0.5555555555555556, \"#d8576b\"], [0.6666666666666666, \"#ed7953\"], [0.7777777777777778, \"#fb9f3a\"], [0.8888888888888888, \"#fdca26\"], [1.0, \"#f0f921\"]], \"type\": \"surface\"}], \"table\": [{\"cells\": {\"fill\": {\"color\": \"#EBF0F8\"}, \"line\": {\"color\": \"white\"}}, \"header\": {\"fill\": {\"color\": \"#C8D4E3\"}, \"line\": {\"color\": \"white\"}}, \"type\": \"table\"}]}, \"layout\": {\"annotationdefaults\": {\"arrowcolor\": \"#2a3f5f\", \"arrowhead\": 0, \"arrowwidth\": 1}, \"coloraxis\": {\"colorbar\": {\"outlinewidth\": 0, \"ticks\": \"\"}}, \"colorscale\": {\"diverging\": [[0, \"#8e0152\"], [0.1, \"#c51b7d\"], [0.2, \"#de77ae\"], [0.3, \"#f1b6da\"], [0.4, \"#fde0ef\"], [0.5, \"#f7f7f7\"], [0.6, \"#e6f5d0\"], [0.7, \"#b8e186\"], [0.8, \"#7fbc41\"], [0.9, \"#4d9221\"], [1, \"#276419\"]], \"sequential\": [[0.0, \"#0d0887\"], [0.1111111111111111, \"#46039f\"], [0.2222222222222222, \"#7201a8\"], [0.3333333333333333, \"#9c179e\"], [0.4444444444444444, \"#bd3786\"], [0.5555555555555556, \"#d8576b\"], [0.6666666666666666, \"#ed7953\"], [0.7777777777777778, \"#fb9f3a\"], [0.8888888888888888, \"#fdca26\"], [1.0, \"#f0f921\"]], \"sequentialminus\": [[0.0, \"#0d0887\"], [0.1111111111111111, \"#46039f\"], [0.2222222222222222, \"#7201a8\"], [0.3333333333333333, \"#9c179e\"], [0.4444444444444444, \"#bd3786\"], [0.5555555555555556, \"#d8576b\"], [0.6666666666666666, \"#ed7953\"], [0.7777777777777778, \"#fb9f3a\"], [0.8888888888888888, \"#fdca26\"], [1.0, \"#f0f921\"]]}, \"colorway\": [\"#636efa\", \"#EF553B\", \"#00cc96\", \"#ab63fa\", \"#FFA15A\", \"#19d3f3\", \"#FF6692\", \"#B6E880\", \"#FF97FF\", \"#FECB52\"], \"font\": {\"color\": \"#2a3f5f\"}, \"geo\": {\"bgcolor\": \"white\", \"lakecolor\": \"white\", \"landcolor\": \"#E5ECF6\", \"showlakes\": true, \"showland\": true, \"subunitcolor\": \"white\"}, \"hoverlabel\": {\"align\": \"left\"}, \"hovermode\": \"closest\", \"mapbox\": {\"style\": \"light\"}, \"paper_bgcolor\": \"white\", \"plot_bgcolor\": \"#E5ECF6\", \"polar\": {\"angularaxis\": {\"gridcolor\": \"white\", \"linecolor\": \"white\", \"ticks\": \"\"}, \"bgcolor\": \"#E5ECF6\", \"radialaxis\": {\"gridcolor\": \"white\", \"linecolor\": \"white\", \"ticks\": \"\"}}, \"scene\": {\"xaxis\": {\"backgroundcolor\": \"#E5ECF6\", \"gridcolor\": \"white\", \"gridwidth\": 2, \"linecolor\": \"white\", \"showbackground\": true, \"ticks\": \"\", \"zerolinecolor\": \"white\"}, \"yaxis\": {\"backgroundcolor\": \"#E5ECF6\", \"gridcolor\": \"white\", \"gridwidth\": 2, \"linecolor\": \"white\", \"showbackground\": true, \"ticks\": \"\", \"zerolinecolor\": \"white\"}, \"zaxis\": {\"backgroundcolor\": \"#E5ECF6\", \"gridcolor\": \"white\", \"gridwidth\": 2, \"linecolor\": \"white\", \"showbackground\": true, \"ticks\": \"\", \"zerolinecolor\": \"white\"}}, \"shapedefaults\": {\"line\": {\"color\": \"#2a3f5f\"}}, \"ternary\": {\"aaxis\": {\"gridcolor\": \"white\", \"linecolor\": \"white\", \"ticks\": \"\"}, \"baxis\": {\"gridcolor\": \"white\", \"linecolor\": \"white\", \"ticks\": \"\"}, \"bgcolor\": \"#E5ECF6\", \"caxis\": {\"gridcolor\": \"white\", \"linecolor\": \"white\", \"ticks\": \"\"}}, \"title\": {\"x\": 0.05}, \"xaxis\": {\"automargin\": true, \"gridcolor\": \"white\", \"linecolor\": \"white\", \"ticks\": \"\", \"title\": {\"standoff\": 15}, \"zerolinecolor\": \"white\", \"zerolinewidth\": 2}, \"yaxis\": {\"automargin\": true, \"gridcolor\": \"white\", \"linecolor\": \"white\", \"ticks\": \"\", \"title\": {\"standoff\": 15}, \"zerolinecolor\": \"white\", \"zerolinewidth\": 2}}}, \"xaxis\": {\"anchor\": \"y\", \"domain\": [0.0, 1.0], \"title\": {\"text\": \"Variable\"}}, \"yaxis\": {\"anchor\": \"x\", \"domain\": [0.0, 1.0], \"title\": {\"text\": \"Coef\"}}},\n",
              "                        {\"responsive\": true}\n",
              "                    ).then(function(){\n",
              "                            \n",
              "var gd = document.getElementById('1889c204-957c-44aa-b859-9238285d0b67');\n",
              "var x = new MutationObserver(function (mutations, observer) {{\n",
              "        var display = window.getComputedStyle(gd).display;\n",
              "        if (!display || display === 'none') {{\n",
              "            console.log([gd, 'removed!']);\n",
              "            Plotly.purge(gd);\n",
              "            observer.disconnect();\n",
              "        }}\n",
              "}});\n",
              "\n",
              "// Listen for the removal of the full notebook cells\n",
              "var notebookContainer = gd.closest('#notebook-container');\n",
              "if (notebookContainer) {{\n",
              "    x.observe(notebookContainer, {childList: true});\n",
              "}}\n",
              "\n",
              "// Listen for the clearing of the current output cell\n",
              "var outputEl = gd.closest('.output');\n",
              "if (outputEl) {{\n",
              "    x.observe(outputEl, {childList: true});\n",
              "}}\n",
              "\n",
              "                        })\n",
              "                };\n",
              "                \n",
              "            </script>\n",
              "        </div>\n",
              "</body>\n",
              "</html>"
            ]
          },
          "metadata": {
            "tags": []
          }
        }
      ]
    },
    {
      "cell_type": "code",
      "metadata": {
        "id": "9oEfxI0kfRYG",
        "colab_type": "code",
        "colab": {
          "base_uri": "https://localhost:8080/",
          "height": 527
        },
        "outputId": "be59e124-5c85-4876-b1d1-25db2c8edf01"
      },
      "source": [
        "for t in [.1,.2,.3,.4,.5]:\n",
        "  LR_keep = list(LR_coefs[(LR_coefs['Coef'] >t) | (LR_coefs['Coef'] <-t)]['Variable'])\n",
        "  LR_keep = LR_keep + ['Season', 'team_x', 'team_y','result']\n",
        "  train1 = train_set.copy()\n",
        "  train1 = train1[LR_keep]\n",
        "  print(t)\n",
        "  for s in seasons:\n",
        "    train_test_window_fit(LR, train1, s, 2007)\n",
        "  \n",
        "\n",
        "  \n"
      ],
      "execution_count": 94,
      "outputs": [
        {
          "output_type": "stream",
          "text": [
            "0.1\n",
            "2015 Log_loss 0.4346 Acc: 0.791\n",
            "2016 Log_loss 0.4263 Acc: 0.8209\n",
            "2017 Log_loss 0.3499 Acc: 0.806\n",
            "2018 Log_loss 0.3988 Acc: 0.7761\n",
            "2019 Log_loss 0.2927 Acc: 0.8806\n",
            "0.2\n",
            "2015 Log_loss 0.435 Acc: 0.806\n",
            "2016 Log_loss 0.4073 Acc: 0.791\n",
            "2017 Log_loss 0.3551 Acc: 0.8358\n",
            "2018 Log_loss 0.3859 Acc: 0.791\n",
            "2019 Log_loss 0.2829 Acc: 0.8955\n",
            "0.3\n",
            "2015 Log_loss 0.4214 Acc: 0.8209\n",
            "2016 Log_loss 0.4079 Acc: 0.8209\n",
            "2017 Log_loss 0.3617 Acc: 0.806\n",
            "2018 Log_loss 0.3943 Acc: 0.791\n",
            "2019 Log_loss 0.2746 Acc: 0.8657\n",
            "0.4\n",
            "2015 Log_loss 0.4141 Acc: 0.8358\n",
            "2016 Log_loss 0.4346 Acc: 0.806\n",
            "2017 Log_loss 0.3464 Acc: 0.8209\n",
            "2018 Log_loss 0.4067 Acc: 0.806\n",
            "2019 Log_loss 0.2791 Acc: 0.8657\n",
            "0.5\n",
            "2015 Log_loss 0.4109 Acc: 0.8507\n",
            "2016 Log_loss 0.4344 Acc: 0.791\n",
            "2017 Log_loss 0.3602 Acc: 0.8209\n",
            "2018 Log_loss 0.4144 Acc: 0.791\n",
            "2019 Log_loss 0.2789 Acc: 0.8657\n"
          ],
          "name": "stdout"
        }
      ]
    },
    {
      "cell_type": "code",
      "metadata": {
        "id": "wnTrxFHHTiG2",
        "colab_type": "code",
        "colab": {}
      },
      "source": [
        "LR_keep = list(LR_coefs[(LR_coefs['Coef'] >.3) | (LR_coefs['Coef'] <-.3)]['Variable'])"
      ],
      "execution_count": 0,
      "outputs": []
    },
    {
      "cell_type": "code",
      "metadata": {
        "id": "bGkJNCakWHz9",
        "colab_type": "code",
        "colab": {}
      },
      "source": [
        "LR_keep = LR_keep + ['Season', 'team_x', 'team_y','result']"
      ],
      "execution_count": 0,
      "outputs": []
    },
    {
      "cell_type": "code",
      "metadata": {
        "id": "SB6xBma9TWa6",
        "colab_type": "code",
        "colab": {}
      },
      "source": [
        "train1 = train_set.copy()\n",
        "train1 = train1[LR_keep]"
      ],
      "execution_count": 0,
      "outputs": []
    },
    {
      "cell_type": "code",
      "metadata": {
        "id": "vIxi2IgPTWjE",
        "colab_type": "code",
        "outputId": "95bd6704-a9b3-42e8-9277-0c5c75f9c754",
        "colab": {
          "base_uri": "https://localhost:8080/",
          "height": 102
        }
      },
      "source": [
        "#Logistic Regression\n",
        "LR = LogisticRegression(C=1,max_iter = 1E6,penalty='l2')\n",
        "seasons = [2015,2016,2017,2018,2019]\n",
        "for s in seasons:\n",
        "    train_test_window_fit(LR, train1, s, 2007)"
      ],
      "execution_count": 106,
      "outputs": [
        {
          "output_type": "stream",
          "text": [
            "2015 Log_loss 0.4214 Acc: 0.8209\n",
            "2016 Log_loss 0.4079 Acc: 0.8209\n",
            "2017 Log_loss 0.3617 Acc: 0.806\n",
            "2018 Log_loss 0.3943 Acc: 0.791\n",
            "2019 Log_loss 0.2746 Acc: 0.8657\n"
          ],
          "name": "stdout"
        }
      ]
    },
    {
      "cell_type": "code",
      "metadata": {
        "id": "HAhbxDB0_iSz",
        "colab_type": "code",
        "outputId": "3d95c5c2-f848-4c47-e244-c5eb37417900",
        "colab": {
          "base_uri": "https://localhost:8080/",
          "height": 102
        }
      },
      "source": [
        "# Decision Tree\n",
        "DT = DecisionTreeClassifier(max_depth = 2)\n",
        "for s in seasons:\n",
        "    train_test_window_fit(DT, train1, s, 2007)"
      ],
      "execution_count": 107,
      "outputs": [
        {
          "output_type": "stream",
          "text": [
            "2015 Log_loss 0.4901 Acc: 0.7761\n",
            "2016 Log_loss 0.5218 Acc: 0.7761\n",
            "2017 Log_loss 0.5176 Acc: 0.7313\n",
            "2018 Log_loss 0.5444 Acc: 0.7313\n",
            "2019 Log_loss 0.4282 Acc: 0.806\n"
          ],
          "name": "stdout"
        }
      ]
    },
    {
      "cell_type": "code",
      "metadata": {
        "id": "O4_sUZD4TWrz",
        "colab_type": "code",
        "outputId": "bec6e4de-e0bb-4bc4-b76f-f1f3a96d8c2d",
        "colab": {
          "base_uri": "https://localhost:8080/",
          "height": 102
        }
      },
      "source": [
        "#NN MLP Classifier\n",
        "import warnings\n",
        "warnings.filterwarnings(\"ignore\")\n",
        "\n",
        "mlp = MLPClassifier()\n",
        "seasons = [2015,2016,2017,2018,2019]\n",
        "for s in seasons:\n",
        "    train_test_window_fit(mlp, train1, s, 2007)"
      ],
      "execution_count": 108,
      "outputs": [
        {
          "output_type": "stream",
          "text": [
            "2015 Log_loss 0.4254 Acc: 0.8209\n",
            "2016 Log_loss 0.483 Acc: 0.8209\n",
            "2017 Log_loss 0.4211 Acc: 0.7612\n",
            "2018 Log_loss 0.4362 Acc: 0.8209\n",
            "2019 Log_loss 0.3149 Acc: 0.8209\n"
          ],
          "name": "stdout"
        }
      ]
    }
  ]
}